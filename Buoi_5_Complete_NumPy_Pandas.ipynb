{
  "nbformat": 4,
  "nbformat_minor": 0,
  "metadata": {
    "colab": {
      "provenance": []
    },
    "kernelspec": {
      "name": "python3",
      "display_name": "Python 3"
    },
    "language_info": {
      "name": "python"
    }
  },
  "cells": [
    {
      "cell_type": "markdown",
      "source": [
        "## BUỔI 5: NUMPY VÀ PANDAS\n"
      ],
      "metadata": {
        "id": "title_header"
      }
    },
    {
      "cell_type": "markdown",
      "source": [
        "## I. NumPy\n",
        "\n",
        "NumPy là thư viện cơ bản cho tính toán khoa học trong Python:\n",
        "- **Mảng đa chiều** hiệu suất cao (ndarray)\n",
        "- **Các hàm toán học** để thao tác với mảng  \n",
        "- **Công cụ** cho đại số tuyến tính, biến đổi Fourier\n",
        "- **Broadcasting** và vectorization"
      ],
      "metadata": {
        "id": "numpy_intro_section"
      }
    },
    {
      "cell_type": "code",
      "source": [
        "# 0. Tại sao nên dùng các thư viện như Numpy\n",
        "import numpy as np\n",
        "import time\n",
        "import sys\n",
        "\n",
        "size = 1000000\n",
        "python_list = list(range(size))\n",
        "numpy_array = np.arange(size)\n",
        "start_time = time.time()\n",
        "sum_list = sum(python_list)\n",
        "list_time = time.time() - start_time\n",
        "\n",
        "start_time = time.time()\n",
        "sum_numpy = np.sum(numpy_array)\n",
        "numpy_time = time.time() - start_time\n",
        "\n",
        "print(f\"Python List: {list_time:.6f}s\")\n",
        "print(f\"NumPy Array: {numpy_time:.6f}s\")\n",
        "print(f\"NumPy nhanh hơn: {list_time/numpy_time:.1f} lần\")\n",
        "\n"
      ],
      "metadata": {
        "id": "numpy_performance_test",
        "colab": {
          "base_uri": "https://localhost:8080/"
        },
        "outputId": "c026c9a8-1a10-4013-a56e-65cc88465bc3"
      },
      "execution_count": 3,
      "outputs": [
        {
          "output_type": "stream",
          "name": "stdout",
          "text": [
            "Python List: 0.022285s\n",
            "NumPy Array: 0.001230s\n",
            "NumPy nhanh hơn: 18.1 lần\n"
          ]
        }
      ]
    },
    {
      "cell_type": "code",
      "source": [
        "# 1. Cài đặt và import\n",
        "import numpy as np\n",
        "print(np.__version__)"
      ],
      "metadata": {
        "id": "numpy_install",
        "colab": {
          "base_uri": "https://localhost:8080/"
        },
        "outputId": "5b7353a7-cbc3-45f0-9e64-5bb85368f2c0"
      },
      "execution_count": 5,
      "outputs": [
        {
          "output_type": "stream",
          "name": "stdout",
          "text": [
            "2.0.2\n"
          ]
        }
      ]
    },
    {
      "cell_type": "markdown",
      "source": [
        "A. Tạo Mảng/Ma trận với NumPy"
      ],
      "metadata": {
        "id": "array_creation_header"
      }
    },
    {
      "cell_type": "code",
      "source": [
        "#tạo mảng cơ bản\n",
        "#1d\n",
        "arr = np.array([1, 2, 3, 4, 5])\n",
        "print(arr)\n",
        "print(type(arr))"
      ],
      "metadata": {
        "id": "basic_array_creation",
        "colab": {
          "base_uri": "https://localhost:8080/"
        },
        "outputId": "39e0d63e-5fbb-4a4e-9f57-559268c1646d"
      },
      "execution_count": 6,
      "outputs": [
        {
          "output_type": "stream",
          "name": "stdout",
          "text": [
            "[1 2 3 4 5]\n",
            "<class 'numpy.ndarray'>\n"
          ]
        }
      ]
    },
    {
      "cell_type": "code",
      "source": [
        "#2d\n",
        "arr = np.array([[1, 2, 3], [4, 5, 6]])\n",
        "print(arr)"
      ],
      "metadata": {
        "colab": {
          "base_uri": "https://localhost:8080/"
        },
        "id": "8xnJnMkAHcRd",
        "outputId": "9708afce-7102-4648-e932-e6e7c139073f"
      },
      "execution_count": 7,
      "outputs": [
        {
          "output_type": "stream",
          "name": "stdout",
          "text": [
            "[[1 2 3]\n",
            " [4 5 6]]\n"
          ]
        }
      ]
    },
    {
      "cell_type": "code",
      "source": [
        "#tuple\n",
        "arr = np.array((7, 8, 9))\n",
        "print(arr)\n"
      ],
      "metadata": {
        "colab": {
          "base_uri": "https://localhost:8080/"
        },
        "id": "7e5CIVzzH7dF",
        "outputId": "efab6cfa-008a-4134-8b5e-7b1386932029"
      },
      "execution_count": 8,
      "outputs": [
        {
          "output_type": "stream",
          "name": "stdout",
          "text": [
            "[7 8 9]\n"
          ]
        }
      ]
    },
    {
      "cell_type": "code",
      "source": [
        "#kiểu của mảng - auto detection\n",
        "arr = np.array([1.1, 2, 3, 4, 5])\n",
        "print(arr)"
      ],
      "metadata": {
        "colab": {
          "base_uri": "https://localhost:8080/"
        },
        "id": "UQ1J3cVmH_XW",
        "outputId": "d07c8783-7186-4cd3-e8e0-492caa05ad17"
      },
      "execution_count": 11,
      "outputs": [
        {
          "output_type": "stream",
          "name": "stdout",
          "text": [
            "[1.1 2.  3.  4.  5. ]\n"
          ]
        }
      ]
    },
    {
      "cell_type": "markdown",
      "source": [
        "B. Các thuộc tính của Mảng"
      ],
      "metadata": {
        "id": "4zTm8dVtLaco"
      }
    },
    {
      "cell_type": "code",
      "source": [
        "#thuộc tính cơ bản của mảng\n",
        "arr = np.array([[1, 2, 3], [4, 5, 6]])\n",
        "print(arr)"
      ],
      "metadata": {
        "id": "array_attributes",
        "colab": {
          "base_uri": "https://localhost:8080/"
        },
        "outputId": "a2d3208f-0829-4d95-81dc-c7bac0d43418"
      },
      "execution_count": 21,
      "outputs": [
        {
          "output_type": "stream",
          "name": "stdout",
          "text": [
            "[[1 2 3]\n",
            " [4 5 6]]\n"
          ]
        }
      ]
    },
    {
      "cell_type": "code",
      "source": [
        "#kích thước\n",
        "print(arr.shape)"
      ],
      "metadata": {
        "colab": {
          "base_uri": "https://localhost:8080/"
        },
        "id": "Ay7Vucm3KNH6",
        "outputId": "64da185a-471b-4a6b-a006-b728c21729cb"
      },
      "execution_count": 22,
      "outputs": [
        {
          "output_type": "stream",
          "name": "stdout",
          "text": [
            "(2, 3)\n"
          ]
        }
      ]
    },
    {
      "cell_type": "code",
      "source": [
        " #số chiều\n",
        "print(arr.ndim)"
      ],
      "metadata": {
        "colab": {
          "base_uri": "https://localhost:8080/"
        },
        "id": "810rEahVKLrr",
        "outputId": "693f8a84-a506-4cc8-c280-cef41d41b46a"
      },
      "execution_count": 23,
      "outputs": [
        {
          "output_type": "stream",
          "name": "stdout",
          "text": [
            "2\n"
          ]
        }
      ]
    },
    {
      "cell_type": "code",
      "source": [
        "#tổng số phần tử\n",
        "print(arr.size)"
      ],
      "metadata": {
        "colab": {
          "base_uri": "https://localhost:8080/"
        },
        "id": "oOC4jWdLKyl-",
        "outputId": "ced54d20-67d7-49a9-a3a5-fd9f42a71d9c"
      },
      "execution_count": 24,
      "outputs": [
        {
          "output_type": "stream",
          "name": "stdout",
          "text": [
            "6\n"
          ]
        }
      ]
    },
    {
      "cell_type": "code",
      "source": [
        "#kiểu dữ liệu\n",
        "print(arr.dtype)"
      ],
      "metadata": {
        "colab": {
          "base_uri": "https://localhost:8080/"
        },
        "id": "6fGXCfZ5K3av",
        "outputId": "93534420-b3ae-4ea3-c065-de1ed27aa37b"
      },
      "execution_count": 25,
      "outputs": [
        {
          "output_type": "stream",
          "name": "stdout",
          "text": [
            "int64\n"
          ]
        }
      ]
    },
    {
      "cell_type": "markdown",
      "source": [
        "C. Các hàm tạo Mảng"
      ],
      "metadata": {
        "id": "eBVkIf5iL12p"
      }
    },
    {
      "cell_type": "code",
      "source": [
        "# Empty\n",
        "empty_arr = np.empty((3, 3))\n",
        "print(empty_arr)"
      ],
      "metadata": {
        "id": "special_array_functions",
        "colab": {
          "base_uri": "https://localhost:8080/"
        },
        "outputId": "1db04301-8fe7-4ce2-937d-098f4112b60e"
      },
      "execution_count": 28,
      "outputs": [
        {
          "output_type": "stream",
          "name": "stdout",
          "text": [
            "[[0. 0. 0.]\n",
            " [0. 0. 0.]\n",
            " [0. 0. 0.]]\n"
          ]
        }
      ]
    },
    {
      "cell_type": "code",
      "source": [
        "# Ma trận đơn vị\n",
        "eye_arr = np.eye(4, 6)\n",
        "print(eye_arr)"
      ],
      "metadata": {
        "colab": {
          "base_uri": "https://localhost:8080/"
        },
        "id": "9-F9GaTPMqR9",
        "outputId": "9b3346b2-8db8-4514-c240-a90a243afe3f"
      },
      "execution_count": 29,
      "outputs": [
        {
          "output_type": "stream",
          "name": "stdout",
          "text": [
            "[[1. 0. 0. 0. 0. 0.]\n",
            " [0. 1. 0. 0. 0. 0.]\n",
            " [0. 0. 1. 0. 0. 0.]\n",
            " [0. 0. 0. 1. 0. 0.]]\n"
          ]
        }
      ]
    },
    {
      "cell_type": "code",
      "source": [
        "identity_arr = np.identity(4)\n",
        "print(identity_arr)"
      ],
      "metadata": {
        "colab": {
          "base_uri": "https://localhost:8080/"
        },
        "id": "DngE8_7pMsWV",
        "outputId": "420f4b53-be98-4d9a-d9ee-99ccaad57358"
      },
      "execution_count": 30,
      "outputs": [
        {
          "output_type": "stream",
          "name": "stdout",
          "text": [
            "[[1. 0. 0. 0.]\n",
            " [0. 1. 0. 0.]\n",
            " [0. 0. 1. 0.]\n",
            " [0. 0. 0. 1.]]\n"
          ]
        }
      ]
    },
    {
      "cell_type": "code",
      "source": [
        "# Ma trận 0\n",
        "zeros_arr = np.zeros((3, 3))\n",
        "print(zeros_arr)"
      ],
      "metadata": {
        "colab": {
          "base_uri": "https://localhost:8080/"
        },
        "id": "7gorEM9oMvI7",
        "outputId": "5b42b544-13f9-45da-e797-f2aabc00ff79"
      },
      "execution_count": 31,
      "outputs": [
        {
          "output_type": "stream",
          "name": "stdout",
          "text": [
            "[[0. 0. 0.]\n",
            " [0. 0. 0.]\n",
            " [0. 0. 0.]]\n"
          ]
        }
      ]
    },
    {
      "cell_type": "code",
      "source": [
        "ones_arr = np.ones((5, 7))\n",
        "print(ones_arr)"
      ],
      "metadata": {
        "colab": {
          "base_uri": "https://localhost:8080/"
        },
        "id": "cJ-sv01qMzhe",
        "outputId": "ea3e7ffa-2b95-4018-a25c-852ea2b32ab0"
      },
      "execution_count": 32,
      "outputs": [
        {
          "output_type": "stream",
          "name": "stdout",
          "text": [
            "[[1. 1. 1. 1. 1. 1. 1.]\n",
            " [1. 1. 1. 1. 1. 1. 1.]\n",
            " [1. 1. 1. 1. 1. 1. 1.]\n",
            " [1. 1. 1. 1. 1. 1. 1.]\n",
            " [1. 1. 1. 1. 1. 1. 1.]]\n"
          ]
        }
      ]
    },
    {
      "cell_type": "code",
      "source": [
        "# Tạo dãy số với arange: np.arange(start, stop, step, dtype)\n",
        "arr1 = np.arange(5)\n",
        "print(arr1)"
      ],
      "metadata": {
        "id": "arange_linspace",
        "colab": {
          "base_uri": "https://localhost:8080/"
        },
        "outputId": "84df1ce0-1f28-4f6d-db07-2936f5065a2a"
      },
      "execution_count": 33,
      "outputs": [
        {
          "output_type": "stream",
          "name": "stdout",
          "text": [
            "[0 1 2 3 4]\n"
          ]
        }
      ]
    },
    {
      "cell_type": "code",
      "source": [
        "arr2 = np.arange(2, 8)\n",
        "print(arr2)"
      ],
      "metadata": {
        "colab": {
          "base_uri": "https://localhost:8080/"
        },
        "id": "y6vvtIEwNJWc",
        "outputId": "dc74a559-e77f-4dac-aaee-893fcb2a25d6"
      },
      "execution_count": 34,
      "outputs": [
        {
          "output_type": "stream",
          "name": "stdout",
          "text": [
            "[2 3 4 5 6 7]\n"
          ]
        }
      ]
    },
    {
      "cell_type": "code",
      "source": [
        "arr3 = np.arange(0, 10, 2)\n",
        "print(arr3)"
      ],
      "metadata": {
        "colab": {
          "base_uri": "https://localhost:8080/"
        },
        "id": "LzIspHYwNMj0",
        "outputId": "fcb337f4-8719-4bd6-e790-0e7528a3c774"
      },
      "execution_count": 35,
      "outputs": [
        {
          "output_type": "stream",
          "name": "stdout",
          "text": [
            "[0 2 4 6 8]\n"
          ]
        }
      ]
    },
    {
      "cell_type": "code",
      "source": [
        "arr4 = np.arange(10, 0, -1)\n",
        "print(arr4)"
      ],
      "metadata": {
        "colab": {
          "base_uri": "https://localhost:8080/"
        },
        "id": "dka1wOsHNOts",
        "outputId": "fc4454cd-6476-4948-e976-d638b288175b"
      },
      "execution_count": 36,
      "outputs": [
        {
          "output_type": "stream",
          "name": "stdout",
          "text": [
            "[10  9  8  7  6  5  4  3  2  1]\n"
          ]
        }
      ]
    },
    {
      "cell_type": "code",
      "source": [
        "# Tạo mảng ngẫu nhiên\n",
        "# np.random.seed(2210)\n",
        "\n",
        "# Random [0, 1)\n",
        "random_arr = np.random.random((3, 3))\n",
        "print(random_arr)"
      ],
      "metadata": {
        "id": "random_arrays",
        "colab": {
          "base_uri": "https://localhost:8080/"
        },
        "outputId": "ebc60067-a3e3-4ea1-8e90-f253b045344a"
      },
      "execution_count": 40,
      "outputs": [
        {
          "output_type": "stream",
          "name": "stdout",
          "text": [
            "[[0.60233155 0.42211725 0.43571595]\n",
            " [0.80995802 0.3814851  0.20479196]\n",
            " [0.89715092 0.91423299 0.73233411]]\n"
          ]
        }
      ]
    },
    {
      "cell_type": "code",
      "source": [
        "# Random integers\n",
        "arr = np.random.randint(1, 100, (3, 3))\n",
        "print(arr)"
      ],
      "metadata": {
        "colab": {
          "base_uri": "https://localhost:8080/"
        },
        "id": "lNQIxggGNxak",
        "outputId": "85a62db8-73a1-4cbc-d9e0-e73dab3f9d80"
      },
      "execution_count": 54,
      "outputs": [
        {
          "output_type": "stream",
          "name": "stdout",
          "text": [
            "[[77 30 34]\n",
            " [ 1 51 57]\n",
            " [93 99 37]]\n"
          ]
        }
      ]
    },
    {
      "cell_type": "code",
      "source": [
        "mean = np.mean(arr)           # Trung bình\n",
        "median = np.median(arr)       # Trung vị\n",
        "std = np.std(arr)            # Độ lệch chuẩn\n",
        "var = np.var(arr)            # Phương sai\n",
        "min_val = np.min(arr)        # Giá trị nhỏ nhất\n",
        "max_val = np.max(arr)        # Giá trị lớn nhất\n",
        "\n",
        "print(mean)\n",
        "print(median)\n",
        "print(std)\n",
        "print(var)\n",
        "print(min_val)\n",
        "print(max_val)"
      ],
      "metadata": {
        "colab": {
          "base_uri": "https://localhost:8080/"
        },
        "id": "ShWS51GyS-7_",
        "outputId": "f339a645-d501-4743-df60-760ff388f42d"
      },
      "execution_count": 61,
      "outputs": [
        {
          "output_type": "stream",
          "name": "stdout",
          "text": [
            "106.70681128985426\n",
            "106.99034747506649\n",
            "17.140012477109035\n",
            "293.7800277154534\n",
            "85.5713939296516\n",
            "127.24638956118517\n"
          ]
        }
      ]
    },
    {
      "cell_type": "markdown",
      "source": [
        "D. Indexing và Slicing"
      ],
      "metadata": {
        "id": "indexing_header"
      }
    },
    {
      "cell_type": "code",
      "source": [
        "arr = np.random.randint(0, 10, (5))\n",
        "arr2 = np.random.randint(0, 10, (3, 5))\n",
        "arr3 = np.random.randint(0, 10, (3, 3, 3))\n",
        "\n",
        "print(arr)\n",
        "print(arr2)\n",
        "print(arr3)"
      ],
      "metadata": {
        "id": "indexing_1d",
        "colab": {
          "base_uri": "https://localhost:8080/"
        },
        "outputId": "52df6f4a-2ecc-41c3-bcff-bf53e6aba020"
      },
      "execution_count": 62,
      "outputs": [
        {
          "output_type": "stream",
          "name": "stdout",
          "text": [
            "[2 7 8 8 1]\n",
            "[[1 3 8 0 8]\n",
            " [2 1 3 5 3]\n",
            " [7 4 7 9 3]]\n",
            "[[[3 2 9]\n",
            "  [1 0 9]\n",
            "  [2 3 2]]\n",
            "\n",
            " [[9 6 0]\n",
            "  [4 1 4]\n",
            "  [6 5 8]]\n",
            "\n",
            " [[3 0 4]\n",
            "  [2 4 1]\n",
            "  [3 2 6]]]\n"
          ]
        }
      ]
    },
    {
      "cell_type": "code",
      "source": [
        "#1d\n",
        "print(arr[0])\n",
        "print(arr[3])\n",
        "print(arr[-1])\n",
        "print(arr[-4])\n",
        "\n",
        "print(arr[1:4])\n",
        "print(arr[:3])\n",
        "print(arr[2:])\n",
        "print(arr[::2])\n",
        "print(arr[::-1])"
      ],
      "metadata": {
        "colab": {
          "base_uri": "https://localhost:8080/"
        },
        "id": "l3UFK-jfffEz",
        "outputId": "429a4cab-6bee-41dc-fca2-3db47ebd728e"
      },
      "execution_count": 63,
      "outputs": [
        {
          "output_type": "stream",
          "name": "stdout",
          "text": [
            "2\n",
            "8\n",
            "1\n",
            "7\n",
            "[7 8 8]\n",
            "[2 7 8]\n",
            "[8 8 1]\n",
            "[2 8 1]\n",
            "[1 8 8 7 2]\n"
          ]
        }
      ]
    },
    {
      "cell_type": "code",
      "source": [
        "#2d\n",
        "print(arr2)\n",
        "\n",
        "print(arr2[0, 0])\n",
        "print(arr2[1, 2])\n",
        "print(arr2[-1, -1])\n",
        "print(arr2[2, 1])\n",
        "\n",
        "print(arr2[0, :])\n",
        "print(arr2[:, 0])\n",
        "print(arr2[-1, :])\n",
        "print(arr2[:, -1])\n",
        "\n",
        "print(arr2[:2, :])\n",
        "print(arr2[:, -2:])\n",
        "print(arr2[1:, 1:4])"
      ],
      "metadata": {
        "id": "indexing_2d",
        "colab": {
          "base_uri": "https://localhost:8080/"
        },
        "outputId": "eb522034-a0bc-4a0b-dbe8-618470af491f"
      },
      "execution_count": 64,
      "outputs": [
        {
          "output_type": "stream",
          "name": "stdout",
          "text": [
            "[[1 3 8 0 8]\n",
            " [2 1 3 5 3]\n",
            " [7 4 7 9 3]]\n",
            "1\n",
            "3\n",
            "3\n",
            "4\n",
            "[1 3 8 0 8]\n",
            "[1 2 7]\n",
            "[7 4 7 9 3]\n",
            "[8 3 3]\n",
            "[[1 3 8 0 8]\n",
            " [2 1 3 5 3]]\n",
            "[[0 8]\n",
            " [5 3]\n",
            " [9 3]]\n",
            "[[1 3 5]\n",
            " [4 7 9]]\n"
          ]
        }
      ]
    },
    {
      "cell_type": "markdown",
      "source": [
        "E. Biến đổi mảng"
      ],
      "metadata": {
        "id": "array_transformation_header"
      }
    },
    {
      "cell_type": "code",
      "source": [
        "# Reshape\n",
        "arr = np.arange(1, 25)\n",
        "print(arr)\n",
        "print(arr)"
      ],
      "metadata": {
        "id": "reshape_operations",
        "colab": {
          "base_uri": "https://localhost:8080/"
        },
        "outputId": "db8eacac-9720-449d-b3c0-f253a9855ece"
      },
      "execution_count": 67,
      "outputs": [
        {
          "output_type": "stream",
          "name": "stdout",
          "text": [
            "[ 1  2  3  4  5  6  7  8  9 10 11 12 13 14 15 16 17 18 19 20 21 22 23 24]\n",
            "[ 1  2  3  4  5  6  7  8  9 10 11 12 13 14 15 16 17 18 19 20 21 22 23 24]\n"
          ]
        }
      ]
    },
    {
      "cell_type": "code",
      "source": [
        "print(arr.reshape(2, 12))"
      ],
      "metadata": {
        "colab": {
          "base_uri": "https://localhost:8080/"
        },
        "id": "9-vdQghWiNH2",
        "outputId": "274f1c98-4f7b-462a-ee4d-8c73067dcccd"
      },
      "execution_count": 69,
      "outputs": [
        {
          "output_type": "stream",
          "name": "stdout",
          "text": [
            "[[ 1  2  3  4  5  6  7  8  9 10 11 12]\n",
            " [13 14 15 16 17 18 19 20 21 22 23 24]]\n"
          ]
        }
      ]
    },
    {
      "cell_type": "code",
      "source": [
        "print(arr.reshape(3, 8))"
      ],
      "metadata": {
        "colab": {
          "base_uri": "https://localhost:8080/"
        },
        "id": "LXMnCbKJiROi",
        "outputId": "ad785181-9d70-4059-c2c9-c3d3c5c6928d"
      },
      "execution_count": 70,
      "outputs": [
        {
          "output_type": "stream",
          "name": "stdout",
          "text": [
            "[[ 1  2  3  4  5  6  7  8]\n",
            " [ 9 10 11 12 13 14 15 16]\n",
            " [17 18 19 20 21 22 23 24]]\n"
          ]
        }
      ]
    },
    {
      "cell_type": "code",
      "source": [
        "print(arr.reshape(4, 6))"
      ],
      "metadata": {
        "colab": {
          "base_uri": "https://localhost:8080/"
        },
        "id": "9TBXTDhfiSU-",
        "outputId": "958dca71-1922-4748-db09-c393aa1fd252"
      },
      "execution_count": 71,
      "outputs": [
        {
          "output_type": "stream",
          "name": "stdout",
          "text": [
            "[[ 1  2  3  4  5  6]\n",
            " [ 7  8  9 10 11 12]\n",
            " [13 14 15 16 17 18]\n",
            " [19 20 21 22 23 24]]\n"
          ]
        }
      ]
    },
    {
      "cell_type": "code",
      "source": [
        "print(arr.reshape(4, 3, 2))"
      ],
      "metadata": {
        "colab": {
          "base_uri": "https://localhost:8080/"
        },
        "id": "t9F6syP4iTLD",
        "outputId": "0dc21602-d7f1-4381-a9f2-2e0bb07c1c88"
      },
      "execution_count": 72,
      "outputs": [
        {
          "output_type": "stream",
          "name": "stdout",
          "text": [
            "[[[ 1  2]\n",
            "  [ 3  4]\n",
            "  [ 5  6]]\n",
            "\n",
            " [[ 7  8]\n",
            "  [ 9 10]\n",
            "  [11 12]]\n",
            "\n",
            " [[13 14]\n",
            "  [15 16]\n",
            "  [17 18]]\n",
            "\n",
            " [[19 20]\n",
            "  [21 22]\n",
            "  [23 24]]]\n"
          ]
        }
      ]
    },
    {
      "cell_type": "code",
      "source": [
        "# Auto reshape với -1\n",
        "auto1 = arr.reshape(-1, 6)\n",
        "auto2 = arr.reshape(3, -1)\n",
        "print(auto1.shape)\n",
        "print(auto2.shape)"
      ],
      "metadata": {
        "colab": {
          "base_uri": "https://localhost:8080/"
        },
        "id": "RInQ5FCxiPgG",
        "outputId": "c95affd7-3fe0-489c-8e47-9d1af36558d2"
      },
      "execution_count": 73,
      "outputs": [
        {
          "output_type": "stream",
          "name": "stdout",
          "text": [
            "(4, 6)\n",
            "(3, 8)\n"
          ]
        }
      ]
    },
    {
      "cell_type": "code",
      "source": [
        "# Transpose\n",
        "matrix = np.arange(1, 13).reshape(3, 4)\n",
        "print(matrix)\n",
        "print()\n",
        "# print(matrix.T)\n",
        "print(matrix.transpose())\n",
        "print()\n",
        "print(matrix)\n"
      ],
      "metadata": {
        "id": "transpose_flatten",
        "colab": {
          "base_uri": "https://localhost:8080/"
        },
        "outputId": "2c8a38eb-05e8-4e03-a1a4-f511520b461f"
      },
      "execution_count": 78,
      "outputs": [
        {
          "output_type": "stream",
          "name": "stdout",
          "text": [
            "[[ 1  2  3  4]\n",
            " [ 5  6  7  8]\n",
            " [ 9 10 11 12]]\n",
            "\n",
            "[[ 1  5  9]\n",
            " [ 2  6 10]\n",
            " [ 3  7 11]\n",
            " [ 4  8 12]]\n",
            "\n",
            "[[ 1  2  3  4]\n",
            " [ 5  6  7  8]\n",
            " [ 9 10 11 12]]\n"
          ]
        }
      ]
    },
    {
      "cell_type": "markdown",
      "source": [
        "F. Các phép toán và hàm toán học"
      ],
      "metadata": {
        "id": "math_operations_header"
      }
    },
    {
      "cell_type": "code",
      "source": [
        "\n",
        "a = np.array([1, 2, 3, 4])\n",
        "b = np.array([5, 6, 7, 8])\n",
        "\n",
        "print(f\"a = {a}\")\n",
        "print(f\"b = {b}\")\n",
        "print(f\"a + b = {a + b}\")\n",
        "print(f\"a - b = {a - b}\")\n",
        "print(f\"a * b = {a * b}\")\n",
        "print(f\"a / b = {a / b}\")\n",
        "print(f\"a ** 2 = {a ** 2}\")\n",
        "print(f\"a % 3 = {a % 3}\")"
      ],
      "metadata": {
        "id": "basic_math_operations",
        "colab": {
          "base_uri": "https://localhost:8080/"
        },
        "outputId": "235920f8-03f9-47ff-82b8-893116ffcb52"
      },
      "execution_count": 79,
      "outputs": [
        {
          "output_type": "stream",
          "name": "stdout",
          "text": [
            "a = [1 2 3 4]\n",
            "b = [5 6 7 8]\n",
            "a + b = [ 6  8 10 12]\n",
            "a - b = [-4 -4 -4 -4]\n",
            "a * b = [ 5 12 21 32]\n",
            "a / b = [0.2        0.33333333 0.42857143 0.5       ]\n",
            "a ** 2 = [ 1  4  9 16]\n",
            "a % 3 = [1 2 0 1]\n"
          ]
        }
      ]
    },
    {
      "cell_type": "code",
      "source": [
        "#broadcasting\n",
        "matrix = np.array([[1, 2, 3], [4, 5, 6]])\n",
        "vector = np.array([10, 20, 30])\n",
        "scalar = 100\n",
        "\n",
        "print(matrix)\n",
        "print(vector)\n",
        "print(scalar)\n",
        "\n",
        "print(matrix + vector)\n",
        "print(matrix + scalar)\n",
        "print(matrix * vector)"
      ],
      "metadata": {
        "colab": {
          "base_uri": "https://localhost:8080/"
        },
        "id": "ZnNN9g_ZowRh",
        "outputId": "9e690c0d-dfb8-4e9e-ab0d-abebf39a19da"
      },
      "execution_count": 83,
      "outputs": [
        {
          "output_type": "stream",
          "name": "stdout",
          "text": [
            "[[1 2 3]\n",
            " [4 5 6]]\n",
            "[10 20 30]\n",
            "100\n",
            "[[11 22 33]\n",
            " [14 25 36]]\n",
            "[[101 102 103]\n",
            " [104 105 106]]\n",
            "[[ 10  40  90]\n",
            " [ 40 100 180]]\n"
          ]
        }
      ]
    },
    {
      "cell_type": "code",
      "source": [
        "#mathematical functions\n",
        "arr = np.array([1, 4, 9, 16, 25])\n",
        "print(arr)"
      ],
      "metadata": {
        "id": "advanced_math_functions",
        "colab": {
          "base_uri": "https://localhost:8080/"
        },
        "outputId": "426c29ce-ecb0-4ce6-b54a-76483fe48de4"
      },
      "execution_count": 84,
      "outputs": [
        {
          "output_type": "stream",
          "name": "stdout",
          "text": [
            "[ 1  4  9 16 25]\n"
          ]
        }
      ]
    },
    {
      "cell_type": "code",
      "source": [
        "print(np.sqrt(arr))\n",
        "print(np.square(arr))\n",
        "print(np.abs(arr))"
      ],
      "metadata": {
        "colab": {
          "base_uri": "https://localhost:8080/"
        },
        "id": "TZlzq02lp7Tq",
        "outputId": "088fbfc9-3335-4a96-a443-208ea56c87fc"
      },
      "execution_count": 85,
      "outputs": [
        {
          "output_type": "stream",
          "name": "stdout",
          "text": [
            "[1. 2. 3. 4. 5.]\n",
            "[  1  16  81 256 625]\n",
            "[ 1  4  9 16 25]\n"
          ]
        }
      ]
    },
    {
      "cell_type": "code",
      "source": [
        "#statistical functions\n",
        "data = np.random.normal(50, 10, 100)\n",
        "print(data[:10])\n",
        "\n",
        "print(f\"Mean: {np.mean(data):.2f}\")\n",
        "print(f\"Median: {np.median(data):.2f}\")\n",
        "print(f\"Std: {np.std(data):.2f}\")\n",
        "print(f\"Var: {np.var(data):.2f}\")\n",
        "print(f\"Min: {np.min(data):.2f}\")\n",
        "print(f\"Max: {np.max(data):.2f}\")\n",
        "print(f\"Sum: {np.sum(data):.2f}\")"
      ],
      "metadata": {
        "id": "statistical_functions",
        "colab": {
          "base_uri": "https://localhost:8080/"
        },
        "outputId": "32a2871f-dc19-4afe-c5c8-c81bfa22f580"
      },
      "execution_count": 86,
      "outputs": [
        {
          "output_type": "stream",
          "name": "stdout",
          "text": [
            "[62.15927421 42.62882284 27.76669075 35.80650986 48.52927984 39.78268108\n",
            " 31.62254036 55.2096101  46.14563055 50.15922024]\n",
            "Mean: 48.12\n",
            "Median: 46.86\n",
            "Std: 9.25\n",
            "Var: 85.60\n",
            "Min: 27.77\n",
            "Max: 72.55\n",
            "Sum: 4811.71\n"
          ]
        }
      ]
    },
    {
      "cell_type": "markdown",
      "source": [
        "II. Pandas\n",
        "\n",
        "Pandas cung cấp cấu trúc dữ liệu và công cụ phân tích dữ liệu mạnh mẽ:\n",
        "- **Series**: mảng 1 chiều có nhãn\n",
        "- **DataFrame**: bảng dữ liệu 2 chiều\n",
        "- **Công cụ**: xử lý dữ liệu thiếu, merge, group by"
      ],
      "metadata": {
        "id": "pandas_section_header"
      }
    },
    {
      "cell_type": "code",
      "source": [
        "#Import Pandas\n",
        "import pandas as pd\n",
        "import numpy as np\n",
        "print(pd.__version__)\n"
      ],
      "metadata": {
        "id": "pandas_import",
        "colab": {
          "base_uri": "https://localhost:8080/"
        },
        "outputId": "5ba6e81c-96c9-454f-e6b4-60fccf8edc19"
      },
      "execution_count": 5,
      "outputs": [
        {
          "output_type": "stream",
          "name": "stdout",
          "text": [
            "2.2.2\n"
          ]
        }
      ]
    },
    {
      "cell_type": "markdown",
      "source": [
        "A. Pandas Series"
      ],
      "metadata": {
        "id": "pandas_series_header"
      }
    },
    {
      "cell_type": "code",
      "source": [
        "# 1. Tạo Series\n",
        "s1 = pd.Series([1, 3, 5, 7, 9])\n",
        "print(s1)"
      ],
      "metadata": {
        "id": "pandas_series_creation",
        "colab": {
          "base_uri": "https://localhost:8080/"
        },
        "outputId": "5bd84535-1bb2-44f8-8c31-69d41cee5afc"
      },
      "execution_count": 100,
      "outputs": [
        {
          "output_type": "stream",
          "name": "stdout",
          "text": [
            "0    1\n",
            "1    3\n",
            "2    5\n",
            "3    7\n",
            "4    9\n",
            "dtype: int64\n"
          ]
        }
      ]
    },
    {
      "cell_type": "code",
      "source": [
        "s2 = pd.Series([100, 200, 300], index=['A', 'B', 'C'])\n",
        "print(s2)"
      ],
      "metadata": {
        "colab": {
          "base_uri": "https://localhost:8080/"
        },
        "id": "-A2sSzuDsX2Z",
        "outputId": "c6fd3849-d767-4b14-ecb3-9dec54125d55"
      },
      "execution_count": 92,
      "outputs": [
        {
          "output_type": "stream",
          "name": "stdout",
          "text": [
            "A    100\n",
            "B    200\n",
            "C    300\n",
            "dtype: int64\n"
          ]
        }
      ]
    },
    {
      "cell_type": "code",
      "source": [
        "data_dict = {'Apple': 150, 'Banana': 80, 'Orange': 120, 'Mango': 200}\n",
        "s3 = pd.Series(data_dict)\n",
        "print(s3)"
      ],
      "metadata": {
        "colab": {
          "base_uri": "https://localhost:8080/"
        },
        "id": "0bQgfj22sZ2s",
        "outputId": "123ea40a-df4c-42ff-d9ca-c0c9f7e15350"
      },
      "execution_count": 6,
      "outputs": [
        {
          "output_type": "stream",
          "name": "stdout",
          "text": [
            "Apple     150\n",
            "Banana     80\n",
            "Orange    120\n",
            "Mango     200\n",
            "dtype: int64\n"
          ]
        }
      ]
    },
    {
      "cell_type": "code",
      "source": [
        "np_arr = np.random.randint(50, 100, 5)\n",
        "s4 = pd.Series(np_arr, index=['Mon', 'Tue', 'Wed', 'Thu', 'Fri'])\n",
        "print(s4)"
      ],
      "metadata": {
        "colab": {
          "base_uri": "https://localhost:8080/"
        },
        "id": "KZYyHBEasblA",
        "outputId": "7b589560-c2ae-4ed3-ace0-ed6f96d1ad94"
      },
      "execution_count": 94,
      "outputs": [
        {
          "output_type": "stream",
          "name": "stdout",
          "text": [
            "Mon    57\n",
            "Tue    55\n",
            "Wed    77\n",
            "Thu    56\n",
            "Fri    98\n",
            "dtype: int64\n"
          ]
        }
      ]
    },
    {
      "cell_type": "code",
      "source": [
        "#2. Thuộc tính\n",
        "print(s3.values)\n",
        "# print(s3.index)\n",
        "print(s3.index.tolist())\n",
        "print(s3.dtype)\n",
        "print(s3.size)\n",
        "print(s3.shape)\n"
      ],
      "metadata": {
        "colab": {
          "base_uri": "https://localhost:8080/"
        },
        "id": "jrnqXwK-sOH7",
        "outputId": "9b2caa2c-1ad9-4d7a-e624-5a73c46dbbe2"
      },
      "execution_count": 98,
      "outputs": [
        {
          "output_type": "stream",
          "name": "stdout",
          "text": [
            "[150  80 120 200]\n",
            "['Apple', 'Banana', 'Orange', 'Mango']\n",
            "int64\n",
            "4\n",
            "(4,)\n"
          ]
        }
      ]
    },
    {
      "cell_type": "code",
      "source": [
        "print(s3)\n",
        "print()\n",
        "print(s3['Apple'])\n",
        "print()\n",
        "print(s3[['Apple', 'Mango']])"
      ],
      "metadata": {
        "id": "series_operations",
        "colab": {
          "base_uri": "https://localhost:8080/"
        },
        "outputId": "bd50016f-d5b8-41c8-d6fa-52ccbf847306"
      },
      "execution_count": 9,
      "outputs": [
        {
          "output_type": "stream",
          "name": "stdout",
          "text": [
            "Apple     150\n",
            "Banana     80\n",
            "Orange    120\n",
            "Mango     200\n",
            "dtype: int64\n",
            "\n",
            "150\n",
            "\n",
            "Apple    150\n",
            "Mango    200\n",
            "dtype: int64\n"
          ]
        }
      ]
    },
    {
      "cell_type": "code",
      "source": [
        "print(s3.iloc[0])\n",
        "print(s3.iloc[0:3])"
      ],
      "metadata": {
        "colab": {
          "base_uri": "https://localhost:8080/"
        },
        "id": "wRVimez1CUn8",
        "outputId": "384ab3bf-5cd4-4cc0-c23d-0e976f0c7cf6"
      },
      "execution_count": 14,
      "outputs": [
        {
          "output_type": "stream",
          "name": "stdout",
          "text": [
            "150\n",
            "Apple     150\n",
            "Banana     80\n",
            "Orange    120\n",
            "dtype: int64\n"
          ]
        }
      ]
    },
    {
      "cell_type": "code",
      "source": [
        "# Boolean indexing\n",
        "expensive = s3 < 100\n",
        "print(expensive)\n",
        "\n",
        "print(s3[expensive])"
      ],
      "metadata": {
        "colab": {
          "base_uri": "https://localhost:8080/"
        },
        "id": "UFg7g9QTC0v_",
        "outputId": "a9ff5516-8946-4cfc-ff93-e4f36a5126af"
      },
      "execution_count": 20,
      "outputs": [
        {
          "output_type": "stream",
          "name": "stdout",
          "text": [
            "Apple     False\n",
            "Banana     True\n",
            "Orange    False\n",
            "Mango     False\n",
            "dtype: bool\n",
            "Banana    80\n",
            "dtype: int64\n"
          ]
        }
      ]
    },
    {
      "cell_type": "code",
      "source": [
        "#Operations\n",
        "data_dict = {'Apple': 1, 'Banana': 2, 'Orange': 3, 'Mango': 4, 'Egg': 5}\n",
        "s3 = pd.Series(data_dict)\n",
        "print(s3)"
      ],
      "metadata": {
        "colab": {
          "base_uri": "https://localhost:8080/"
        },
        "id": "x8p5IKCuELfc",
        "outputId": "197a288c-8896-45b9-f12c-7999e9b735a0"
      },
      "execution_count": 29,
      "outputs": [
        {
          "output_type": "stream",
          "name": "stdout",
          "text": [
            "Apple     1\n",
            "Banana    2\n",
            "Orange    3\n",
            "Mango     4\n",
            "Egg       5\n",
            "dtype: int64\n"
          ]
        }
      ]
    },
    {
      "cell_type": "code",
      "source": [
        "print(s3 * 1.1)"
      ],
      "metadata": {
        "colab": {
          "base_uri": "https://localhost:8080/"
        },
        "id": "nm2fCzS-FDtE",
        "outputId": "f096b529-01a8-404a-9563-78592e57a0a8"
      },
      "execution_count": 30,
      "outputs": [
        {
          "output_type": "stream",
          "name": "stdout",
          "text": [
            "Apple     1.1\n",
            "Banana    2.2\n",
            "Orange    3.3\n",
            "Mango     4.4\n",
            "Egg       5.5\n",
            "dtype: float64\n"
          ]
        }
      ]
    },
    {
      "cell_type": "code",
      "source": [
        "print(s3 + 20)"
      ],
      "metadata": {
        "colab": {
          "base_uri": "https://localhost:8080/"
        },
        "id": "CTMn4tocFFEf",
        "outputId": "a5357633-ffb2-4341-902b-46f33e4e6eda"
      },
      "execution_count": 31,
      "outputs": [
        {
          "output_type": "stream",
          "name": "stdout",
          "text": [
            "Apple     21\n",
            "Banana    22\n",
            "Orange    23\n",
            "Mango     24\n",
            "Egg       25\n",
            "dtype: int64\n"
          ]
        }
      ]
    },
    {
      "cell_type": "code",
      "source": [
        "print(s3.sum())"
      ],
      "metadata": {
        "colab": {
          "base_uri": "https://localhost:8080/"
        },
        "id": "YT1F0J6nFHrS",
        "outputId": "afa48209-ecc0-4822-f4cf-4f9655ea0a8d"
      },
      "execution_count": 32,
      "outputs": [
        {
          "output_type": "stream",
          "name": "stdout",
          "text": [
            "15\n"
          ]
        }
      ]
    },
    {
      "cell_type": "code",
      "source": [
        "print(s3.mean())"
      ],
      "metadata": {
        "colab": {
          "base_uri": "https://localhost:8080/"
        },
        "id": "0Fl-EZrjFJ8l",
        "outputId": "76fd5aea-e7e3-48e9-cb03-5c6f7aa20118"
      },
      "execution_count": 33,
      "outputs": [
        {
          "output_type": "stream",
          "name": "stdout",
          "text": [
            "3.0\n"
          ]
        }
      ]
    },
    {
      "cell_type": "code",
      "source": [
        "print(s3.max())"
      ],
      "metadata": {
        "colab": {
          "base_uri": "https://localhost:8080/"
        },
        "id": "gzcsjjF6FLTH",
        "outputId": "6c0f3eb9-1218-4d29-b2d1-b5a9002c5368"
      },
      "execution_count": 34,
      "outputs": [
        {
          "output_type": "stream",
          "name": "stdout",
          "text": [
            "5\n"
          ]
        }
      ]
    },
    {
      "cell_type": "code",
      "source": [
        "print(s3.min())"
      ],
      "metadata": {
        "colab": {
          "base_uri": "https://localhost:8080/"
        },
        "id": "cTHgoOedFMrb",
        "outputId": "bede176e-0dc3-4549-df44-29ad2ff9cb2b"
      },
      "execution_count": 35,
      "outputs": [
        {
          "output_type": "stream",
          "name": "stdout",
          "text": [
            "1\n"
          ]
        }
      ]
    },
    {
      "cell_type": "code",
      "source": [
        "print(s3.std())"
      ],
      "metadata": {
        "colab": {
          "base_uri": "https://localhost:8080/"
        },
        "id": "2p_FubAvFOBH",
        "outputId": "949297b2-7cfe-426d-f929-0ac209ce8140"
      },
      "execution_count": 36,
      "outputs": [
        {
          "output_type": "stream",
          "name": "stdout",
          "text": [
            "1.5811388300841898\n"
          ]
        }
      ]
    },
    {
      "cell_type": "markdown",
      "source": [
        "B. Pandas DataFrame"
      ],
      "metadata": {
        "id": "dataframe_header"
      }
    },
    {
      "cell_type": "code",
      "source": [
        "#1. Tạo DataFrame\n",
        "#Dictionary\n",
        "data = {\n",
        "    'Tên': ['An', 'Bình', 'Chi', 'Dung', 'Em', 'Phong'],\n",
        "    'Tuổi': [25, 30, 35, 28, 22, 27],\n",
        "    'Lương': [5000, 6000, 7000, 5500, 4500, 5800],\n",
        "    'Thành phố': ['Hà Nội', 'HCM', 'Đà Nẵng', 'Hà Nội', 'HCM', 'Cần Thơ'],\n",
        "    'Kinh nghiệm': [2, 5, 8, 4, 1, 3]\n",
        "}\n",
        "\n",
        "df = pd.DataFrame(data)\n",
        "print(df)\n"
      ],
      "metadata": {
        "id": "dataframe_creation",
        "colab": {
          "base_uri": "https://localhost:8080/"
        },
        "outputId": "45b62711-b3f6-4f5e-c84b-5054b6a2920a"
      },
      "execution_count": 39,
      "outputs": [
        {
          "output_type": "stream",
          "name": "stdout",
          "text": [
            "     Tên  Tuổi  Lương Thành phố  Kinh nghiệm\n",
            "0     An    25   5000    Hà Nội            2\n",
            "1   Bình    30   6000       HCM            5\n",
            "2    Chi    35   7000   Đà Nẵng            8\n",
            "3   Dung    28   5500    Hà Nội            4\n",
            "4     Em    22   4500       HCM            1\n",
            "5  Phong    27   5800   Cần Thơ            3\n"
          ]
        }
      ]
    },
    {
      "cell_type": "code",
      "source": [
        "#List of lists\n",
        "data_list = [\n",
        "    ['Product A', 100, 'Electronics'],\n",
        "    ['Product B', 150, 'Clothing'],\n",
        "    ['Product C', 80, 'Books'],\n",
        "    ['Product D', 200, 'Electronics']\n",
        "]\n",
        "df = pd.DataFrame(data_list, columns=['Product', 'Price', 'Category'])\n",
        "print(df)\n"
      ],
      "metadata": {
        "colab": {
          "base_uri": "https://localhost:8080/"
        },
        "id": "jkHw3dVDGA3z",
        "outputId": "dfa77769-175d-4021-ad7f-29a6e8e1826a"
      },
      "execution_count": 40,
      "outputs": [
        {
          "output_type": "stream",
          "name": "stdout",
          "text": [
            "     Product  Price     Category\n",
            "0  Product A    100  Electronics\n",
            "1  Product B    150     Clothing\n",
            "2  Product C     80        Books\n",
            "3  Product D    200  Electronics\n"
          ]
        }
      ]
    },
    {
      "cell_type": "code",
      "source": [
        "#2. Thuộc Tính\n",
        "#shape\n",
        "print(df.shape)"
      ],
      "metadata": {
        "colab": {
          "base_uri": "https://localhost:8080/"
        },
        "id": "pzgMAZbQHn3X",
        "outputId": "60d12d0f-266c-472a-bd8c-c1f0dc910d11"
      },
      "execution_count": 43,
      "outputs": [
        {
          "output_type": "stream",
          "name": "stdout",
          "text": [
            "(4, 3)\n"
          ]
        }
      ]
    },
    {
      "cell_type": "code",
      "source": [
        "#columns\n",
        "print(df.columns)\n",
        "print(list(df.columns))"
      ],
      "metadata": {
        "colab": {
          "base_uri": "https://localhost:8080/"
        },
        "id": "tBvyrkUlH43n",
        "outputId": "5352fcee-90bf-4435-b94a-3c961e88ec20"
      },
      "execution_count": 44,
      "outputs": [
        {
          "output_type": "stream",
          "name": "stdout",
          "text": [
            "Index(['Product', 'Price', 'Category'], dtype='object')\n",
            "['Product', 'Price', 'Category']\n"
          ]
        }
      ]
    },
    {
      "cell_type": "code",
      "source": [
        "#index\n",
        "print(df.index)\n",
        "print(list(df.index))"
      ],
      "metadata": {
        "colab": {
          "base_uri": "https://localhost:8080/"
        },
        "id": "ORE2gYwCIAli",
        "outputId": "91f9970c-b6d4-48d0-cd18-a70f286fc660"
      },
      "execution_count": 45,
      "outputs": [
        {
          "output_type": "stream",
          "name": "stdout",
          "text": [
            "RangeIndex(start=0, stop=4, step=1)\n",
            "[0, 1, 2, 3]\n"
          ]
        }
      ]
    },
    {
      "cell_type": "code",
      "source": [
        "#size\n",
        "print(df.size)"
      ],
      "metadata": {
        "colab": {
          "base_uri": "https://localhost:8080/"
        },
        "id": "nOs_1HbGIFxw",
        "outputId": "f05799d8-961f-42eb-8421-a7d4b6df3ca4"
      },
      "execution_count": 46,
      "outputs": [
        {
          "output_type": "stream",
          "name": "stdout",
          "text": [
            "12\n"
          ]
        }
      ]
    },
    {
      "cell_type": "code",
      "source": [
        "#dtypes\n",
        "print(df.dtypes)"
      ],
      "metadata": {
        "colab": {
          "base_uri": "https://localhost:8080/"
        },
        "id": "CMjsTfMEIL_v",
        "outputId": "7dff1d52-15e9-4d46-8a70-eeb62c47d731"
      },
      "execution_count": 47,
      "outputs": [
        {
          "output_type": "stream",
          "name": "stdout",
          "text": [
            "Product     object\n",
            "Price        int64\n",
            "Category    object\n",
            "dtype: object\n"
          ]
        }
      ]
    },
    {
      "cell_type": "code",
      "source": [
        "#3 Truy cập dữ liệu\n",
        "data = {\n",
        "    'Tên': ['An', 'Bình', 'Chi', 'Dung', 'Em', 'Phong'],\n",
        "    'Tuổi': [25, 30, 35, 28, 22, 27],\n",
        "    'Lương': [5000, 6000, 7000, 5500, 4500, 5800],\n",
        "    'Thành phố': ['Hà Nội', 'HCM', 'Đà Nẵng', 'Hà Nội', 'HCM', 'Cần Thơ'],\n",
        "    'Kinh nghiệm': [2, 5, 8, 4, 1, 3]\n",
        "}\n",
        "\n",
        "df = pd.DataFrame(data)\n",
        "print(df)"
      ],
      "metadata": {
        "id": "dataframe_exploration",
        "colab": {
          "base_uri": "https://localhost:8080/"
        },
        "outputId": "ff4f7271-c7bb-4114-cd2f-c55c9582685c"
      },
      "execution_count": 49,
      "outputs": [
        {
          "output_type": "stream",
          "name": "stdout",
          "text": [
            "     Tên  Tuổi  Lương Thành phố  Kinh nghiệm\n",
            "0     An    25   5000    Hà Nội            2\n",
            "1   Bình    30   6000       HCM            5\n",
            "2    Chi    35   7000   Đà Nẵng            8\n",
            "3   Dung    28   5500    Hà Nội            4\n",
            "4     Em    22   4500       HCM            1\n",
            "5  Phong    27   5800   Cần Thơ            3\n"
          ]
        }
      ]
    },
    {
      "cell_type": "code",
      "source": [
        "print(df.head(3))\n",
        "print(df.tail(3))"
      ],
      "metadata": {
        "colab": {
          "base_uri": "https://localhost:8080/"
        },
        "id": "5GeSbQhRJMk1",
        "outputId": "51b52b6b-f9d4-4a56-d8b8-423468dacd65"
      },
      "execution_count": 50,
      "outputs": [
        {
          "output_type": "stream",
          "name": "stdout",
          "text": [
            "    Tên  Tuổi  Lương Thành phố  Kinh nghiệm\n",
            "0    An    25   5000    Hà Nội            2\n",
            "1  Bình    30   6000       HCM            5\n",
            "2   Chi    35   7000   Đà Nẵng            8\n",
            "     Tên  Tuổi  Lương Thành phố  Kinh nghiệm\n",
            "3   Dung    28   5500    Hà Nội            4\n",
            "4     Em    22   4500       HCM            1\n",
            "5  Phong    27   5800   Cần Thơ            3\n"
          ]
        }
      ]
    },
    {
      "cell_type": "code",
      "source": [
        "print(df.info())"
      ],
      "metadata": {
        "colab": {
          "base_uri": "https://localhost:8080/"
        },
        "id": "d_OGW81JJDwF",
        "outputId": "d9f0c65e-e939-49ae-aef6-d324d64723ed"
      },
      "execution_count": 51,
      "outputs": [
        {
          "output_type": "stream",
          "name": "stdout",
          "text": [
            "<class 'pandas.core.frame.DataFrame'>\n",
            "RangeIndex: 6 entries, 0 to 5\n",
            "Data columns (total 5 columns):\n",
            " #   Column       Non-Null Count  Dtype \n",
            "---  ------       --------------  ----- \n",
            " 0   Tên          6 non-null      object\n",
            " 1   Tuổi         6 non-null      int64 \n",
            " 2   Lương        6 non-null      int64 \n",
            " 3   Thành phố    6 non-null      object\n",
            " 4   Kinh nghiệm  6 non-null      int64 \n",
            "dtypes: int64(3), object(2)\n",
            "memory usage: 372.0+ bytes\n",
            "None\n"
          ]
        }
      ]
    },
    {
      "cell_type": "code",
      "source": [
        "print(df.describe())"
      ],
      "metadata": {
        "colab": {
          "base_uri": "https://localhost:8080/"
        },
        "id": "raq-uUJqJdv9",
        "outputId": "91980870-7b50-4191-e434-89c7739df14a"
      },
      "execution_count": 52,
      "outputs": [
        {
          "output_type": "stream",
          "name": "stdout",
          "text": [
            "            Tuổi        Lương  Kinh nghiệm\n",
            "count   6.000000     6.000000     6.000000\n",
            "mean   27.833333  5633.333333     3.833333\n",
            "std     4.445972   864.098760     2.483277\n",
            "min    22.000000  4500.000000     1.000000\n",
            "25%    25.500000  5125.000000     2.250000\n",
            "50%    27.500000  5650.000000     3.500000\n",
            "75%    29.500000  5950.000000     4.750000\n",
            "max    35.000000  7000.000000     8.000000\n"
          ]
        }
      ]
    },
    {
      "cell_type": "code",
      "source": [
        "print(df.describe(include='all'))"
      ],
      "metadata": {
        "colab": {
          "base_uri": "https://localhost:8080/"
        },
        "id": "Bm75R62kJh5E",
        "outputId": "0db5d359-e18a-465f-e80f-82796ca9b93b"
      },
      "execution_count": 53,
      "outputs": [
        {
          "output_type": "stream",
          "name": "stdout",
          "text": [
            "        Tên       Tuổi        Lương Thành phố  Kinh nghiệm\n",
            "count     6   6.000000     6.000000         6     6.000000\n",
            "unique    6        NaN          NaN         4          NaN\n",
            "top      An        NaN          NaN    Hà Nội          NaN\n",
            "freq      1        NaN          NaN         2          NaN\n",
            "mean    NaN  27.833333  5633.333333       NaN     3.833333\n",
            "std     NaN   4.445972   864.098760       NaN     2.483277\n",
            "min     NaN  22.000000  4500.000000       NaN     1.000000\n",
            "25%     NaN  25.500000  5125.000000       NaN     2.250000\n",
            "50%     NaN  27.500000  5650.000000       NaN     3.500000\n",
            "75%     NaN  29.500000  5950.000000       NaN     4.750000\n",
            "max     NaN  35.000000  7000.000000       NaN     8.000000\n"
          ]
        }
      ]
    },
    {
      "cell_type": "code",
      "source": [
        "#4. Truy Xuất\n",
        "#Truy xuất cột\n",
        "print(df['Tên'])\n",
        "print(type(df['Tên']))\n",
        "print(df[['Tên', 'Lương', 'Thành phố']])"
      ],
      "metadata": {
        "id": "dataframe_access",
        "colab": {
          "base_uri": "https://localhost:8080/"
        },
        "outputId": "5686b601-116a-4112-b007-b2509ac15619"
      },
      "execution_count": 54,
      "outputs": [
        {
          "output_type": "stream",
          "name": "stdout",
          "text": [
            "0       An\n",
            "1     Bình\n",
            "2      Chi\n",
            "3     Dung\n",
            "4       Em\n",
            "5    Phong\n",
            "Name: Tên, dtype: object\n",
            "<class 'pandas.core.series.Series'>\n",
            "     Tên  Lương Thành phố\n",
            "0     An   5000    Hà Nội\n",
            "1   Bình   6000       HCM\n",
            "2    Chi   7000   Đà Nẵng\n",
            "3   Dung   5500    Hà Nội\n",
            "4     Em   4500       HCM\n",
            "5  Phong   5800   Cần Thơ\n"
          ]
        }
      ]
    },
    {
      "cell_type": "code",
      "source": [
        "# Truy xuất hàng\n",
        "print(df.iloc[0])"
      ],
      "metadata": {
        "colab": {
          "base_uri": "https://localhost:8080/"
        },
        "id": "3Ep71WjBLAlX",
        "outputId": "9049479f-88e7-41ad-bbf8-9999692ad27e"
      },
      "execution_count": 57,
      "outputs": [
        {
          "output_type": "stream",
          "name": "stdout",
          "text": [
            "Tên                An\n",
            "Tuổi               25\n",
            "Lương            5000\n",
            "Thành phố      Hà Nội\n",
            "Kinh nghiệm         2\n",
            "Name: 0, dtype: object\n"
          ]
        }
      ]
    },
    {
      "cell_type": "code",
      "source": [
        "print(df.loc[0])"
      ],
      "metadata": {
        "colab": {
          "base_uri": "https://localhost:8080/"
        },
        "id": "Ru8UCeVULZPa",
        "outputId": "25e77348-2c71-4c35-d2c1-89e9136efb14"
      },
      "execution_count": 58,
      "outputs": [
        {
          "output_type": "stream",
          "name": "stdout",
          "text": [
            "Tên                An\n",
            "Tuổi               25\n",
            "Lương            5000\n",
            "Thành phố      Hà Nội\n",
            "Kinh nghiệm         2\n",
            "Name: 0, dtype: object\n"
          ]
        }
      ]
    },
    {
      "cell_type": "code",
      "source": [
        "print(df.iloc[1:4])"
      ],
      "metadata": {
        "colab": {
          "base_uri": "https://localhost:8080/"
        },
        "id": "bxiYCC0tLaMY",
        "outputId": "52758eb6-7876-4e97-fc7c-cf9c3827fc29"
      },
      "execution_count": 59,
      "outputs": [
        {
          "output_type": "stream",
          "name": "stdout",
          "text": [
            "    Tên  Tuổi  Lương Thành phố  Kinh nghiệm\n",
            "1  Bình    30   6000       HCM            5\n",
            "2   Chi    35   7000   Đà Nẵng            8\n",
            "3  Dung    28   5500    Hà Nội            4\n"
          ]
        }
      ]
    },
    {
      "cell_type": "code",
      "source": [
        "print(df.loc[1:3])"
      ],
      "metadata": {
        "colab": {
          "base_uri": "https://localhost:8080/"
        },
        "id": "obMdmMorLbBk",
        "outputId": "2834f2a3-1fdd-4535-eb1b-9ceaae1160da"
      },
      "execution_count": 60,
      "outputs": [
        {
          "output_type": "stream",
          "name": "stdout",
          "text": [
            "    Tên  Tuổi  Lương Thành phố  Kinh nghiệm\n",
            "1  Bình    30   6000       HCM            5\n",
            "2   Chi    35   7000   Đà Nẵng            8\n",
            "3  Dung    28   5500    Hà Nội            4\n"
          ]
        }
      ]
    },
    {
      "cell_type": "code",
      "source": [
        "# Truy xuất ô cụ thể\n",
        "print(df.iloc[0, 1])\n",
        "print(df.loc[1, 'Tuổi'])\n",
        "print(df.at[2, 'Tên'])"
      ],
      "metadata": {
        "colab": {
          "base_uri": "https://localhost:8080/"
        },
        "id": "vGReRKQxLWhC",
        "outputId": "84c1815a-6756-41c0-a08c-68232e3f2d5b"
      },
      "execution_count": 63,
      "outputs": [
        {
          "output_type": "stream",
          "name": "stdout",
          "text": [
            "25\n",
            "30\n",
            "Chi\n"
          ]
        }
      ]
    },
    {
      "cell_type": "code",
      "source": [
        "# Truy xuất với điều kiện\n",
        "print(df.loc[0:2, ['Tên', 'Lương']])"
      ],
      "metadata": {
        "colab": {
          "base_uri": "https://localhost:8080/"
        },
        "id": "p5ipBJA2MGFl",
        "outputId": "c4a37eca-6247-48ec-c894-b373dc97fa9d"
      },
      "execution_count": 66,
      "outputs": [
        {
          "output_type": "stream",
          "name": "stdout",
          "text": [
            "    Tên  Lương\n",
            "0    An   5000\n",
            "1  Bình   6000\n",
            "2   Chi   7000\n"
          ]
        }
      ]
    },
    {
      "cell_type": "code",
      "source": [
        "# 5. Lọc và tìm kiếm dữ liệu\n",
        "data = {\n",
        "    'Tên': ['An', 'Bình', 'Chi', 'Dung', 'Em', 'Phong'],\n",
        "    'Tuổi': [25, 30, 35, 28, 22, 27],\n",
        "    'Lương': [5000, 6000, 7000, 5500, 4500, 5800],\n",
        "    'Thành phố': ['Hà Nội', 'HCM', 'Đà Nẵng', 'Hà Nội', 'HCM', 'Cần Thơ'],\n",
        "    'Kinh nghiệm': [2, 5, 8, 4, 1, 3]\n",
        "}\n",
        "\n",
        "df = pd.DataFrame(data)\n",
        "print(df)"
      ],
      "metadata": {
        "id": "basic_filtering"
      },
      "execution_count": null,
      "outputs": []
    },
    {
      "cell_type": "code",
      "source": [
        "#1 điều kiện\n",
        "a = df['Lương'].mean()\n",
        "print(a)\n",
        "high_salary = df[df['Lương'] > a]\n",
        "print(high_salary)\n",
        "\n",
        "# young_people = df[df['Tuổi'] < 30]\n",
        "# print(\"\\nNgười trẻ (<30 tuổi):\")\n",
        "# print(young_people[['Tên', 'Tuổi', 'Lương']])\n",
        "\n"
      ],
      "metadata": {
        "colab": {
          "base_uri": "https://localhost:8080/"
        },
        "id": "-pdbh-hulaqL",
        "outputId": "346840c0-75ca-4d16-e402-00c94fae5096"
      },
      "execution_count": 72,
      "outputs": [
        {
          "output_type": "stream",
          "name": "stdout",
          "text": [
            "5633.333333333333\n",
            "     Tên  Tuổi  Lương Thành phố  Kinh nghiệm\n",
            "1   Bình    30   6000       HCM            5\n",
            "2    Chi    35   7000   Đà Nẵng            8\n",
            "5  Phong    27   5800   Cần Thơ            3\n"
          ]
        }
      ]
    },
    {
      "cell_type": "code",
      "source": [
        "# Lọc theo nhiều điều kiện\n",
        "print(\"\\n🔸 Lọc theo nhiều điều kiện:\")\n",
        "young_high_salary = df[(df['Tuổi'] < 30) & (df['Lương'] > 5000)]\n",
        "print(\"Tuổi < 30 VÀ lương > 5000:\")\n",
        "print(young_high_salary[['Tên', 'Tuổi', 'Lương']])\n",
        "\n",
        "experienced_or_young = df[(df['Kinh nghiệm'] >= 5) | (df['Tuổi'] <= 25)]\n",
        "print(\"\\nKinh nghiệm ≥ 5 HOẶC tuổi ≤ 25:\")\n",
        "print(experienced_or_young[['Tên', 'Tuổi', 'Kinh nghiệm']])\n",
        "\n"
      ],
      "metadata": {
        "id": "U5-DIpoQlcuh"
      },
      "execution_count": null,
      "outputs": []
    },
    {
      "cell_type": "code",
      "source": [
        "# Lọc theo string\n",
        "print(\"\\n🔸 Lọc theo string:\")\n",
        "hanoi_people = df[df['Thành phố'] == 'Hà Nội']\n",
        "print(\"Người ở Hà Nội:\")\n",
        "print(hanoi_people[['Tên', 'Thành phố', 'Lương']])\n",
        "\n",
        "# Contains string\n",
        "name_with_n = df[df['Tên'].str.contains('n', case=False)]\n",
        "print(\"\\nTên chứa chữ 'n':\")\n",
        "print(name_with_n[['Tên']])"
      ],
      "metadata": {
        "id": "rCQO-WOKlef5"
      },
      "execution_count": null,
      "outputs": []
    },
    {
      "cell_type": "code",
      "source": [
        "# Lọc nâng cao\n",
        "print(\"🔸 Lọc nâng cao:\")\n",
        "\n",
        "# Lọc theo danh sách\n",
        "selected_cities = df[df['Thành phố'].isin(['Hà Nội', 'HCM'])]\n",
        "print(\"Người ở Hà Nội hoặc HCM:\")\n",
        "print(selected_cities[['Tên', 'Thành phố']])\n",
        "\n",
        "# Lọc theo range\n",
        "mid_range_salary = df[df['Lương'].between(5000, 6000)]\n",
        "print(\"\\nLương từ 5000-6000:\")\n",
        "print(mid_range_salary[['Tên', 'Lương']])\n",
        "\n",
        "# Query method (SQL-like)\n",
        "print(\"\\n🔸 Sử dụng query() method:\")\n",
        "result1 = df.query('Tuổi >= 28 and Lương <= 6000')\n",
        "print(\"Query: 'Tuổi >= 28 and Lương <= 6000'\")\n",
        "print(result1[['Tên', 'Tuổi', 'Lương']])\n",
        "\n",
        "result2 = df.query('Thành_phố == \"Hà Nội\" and Kinh_nghiệm > 2')\n",
        "print(\"\\nQuery: 'Thành_phố == \"Hà Nội\" and Kinh_nghiệm > 2'\")\n",
        "print(result2[['Tên', 'Thành phố', 'Kinh nghiệm']])\n",
        "\n",
        "# Negate conditions\n",
        "print(\"\\n🔸 Điều kiện phủ định:\")\n",
        "not_hanoi = df[~(df['Thành phố'] == 'Hà Nội')]\n",
        "print(\"Không ở Hà Nội:\")\n",
        "print(not_hanoi[['Tên', 'Thành phố']])\n",
        "\n",
        "# Top/Bottom records\n",
        "print(\"\\n🔸 Top/Bottom records:\")\n",
        "top_salary = df.nlargest(3, 'Lương')\n",
        "print(\"Top 3 lương cao nhất:\")\n",
        "print(top_salary[['Tên', 'Lương']])\n",
        "\n",
        "youngest = df.nsmallest(2, 'Tuổi')\n",
        "print(\"\\n2 người trẻ nhất:\")\n",
        "print(youngest[['Tên', 'Tuổi']])"
      ],
      "metadata": {
        "id": "advanced_filtering"
      },
      "execution_count": null,
      "outputs": []
    },
    {
      "cell_type": "markdown",
      "source": [
        "## IV. Thêm, sửa, xóa dữ liệu"
      ],
      "metadata": {
        "id": "data_manipulation_header"
      }
    },
    {
      "cell_type": "code",
      "source": [
        "# 4. Thêm, sửa, xóa dữ liệu\n",
        "print(\"➕ 4. THÊM, SỬA, XÓA DỮ LIỆU\")\n",
        "print(\"=\" * 40)\n",
        "\n",
        "# Tạo copy để không ảnh hưởng df gốc\n",
        "df_work = df.copy()\n",
        "\n",
        "# Thêm cột mới\n",
        "print(\"🔸 Thêm cột mới:\")\n",
        "print(\"DataFrame gốc:\")\n",
        "print(df_work[['Tên', 'Lương']])\n",
        "\n",
        "# Thêm cột tính toán\n",
        "df_work['Thưởng'] = df_work['Lương'] * 0.1\n",
        "df_work['Tổng_thu_nhập'] = df_work['Lương'] + df_work['Thưởng']\n",
        "\n",
        "# Thêm cột điều kiện\n",
        "df_work['Cấp_độ'] = df_work['Tuổi'].apply(lambda x: 'Senior' if x >= 30 else 'Junior')\n",
        "\n",
        "# Thêm cột với multiple conditions\n",
        "def classify_employee(row):\n",
        "    if row['Kinh nghiệm'] >= 5:\n",
        "        return 'Expert'\n",
        "    elif row['Kinh nghiệm'] >= 3:\n",
        "        return 'Experienced'\n",
        "    else:\n",
        "        return 'Beginner'\n",
        "\n",
        "df_work['Phân_loại'] = df_work.apply(classify_employee, axis=1)\n",
        "\n",
        "print(\"\\nSau khi thêm cột:\")\n",
        "print(df_work[['Tên', 'Lương', 'Thưởng', 'Tổng_thu_nhập', 'Cấp_độ', 'Phân_loại']])\n",
        "\n",
        "# Thêm hàng mới\n",
        "print(\"\\n🔸 Thêm hàng mới:\")\n",
        "new_employees = [\n",
        "    {'Tên': 'Giang', 'Tuổi': 26, 'Lương': 5200, 'Thành phố': 'Hà Nội', 'Kinh nghiệm': 2},\n",
        "    {'Tên': 'Hoàng', 'Tuổi': 32, 'Lương': 6500, 'Thành phố': 'HCM', 'Kinh nghiệm': 6}\n",
        "]\n",
        "\n",
        "df_new = pd.concat([df, pd.DataFrame(new_employees)], ignore_index=True)\n",
        "print(\"DataFrame sau khi thêm 2 nhân viên mới:\")\n",
        "print(df_new.tail(4))  # Show last 4 rows"
      ],
      "metadata": {
        "id": "add_columns_rows"
      },
      "execution_count": null,
      "outputs": []
    },
    {
      "cell_type": "code",
      "source": [
        "# Sửa dữ liệu\n",
        "print(\"🔸 Sửa dữ liệu:\")\n",
        "df_edit = df.copy()\n",
        "\n",
        "print(\"Trước khi sửa:\")\n",
        "print(df_edit.loc[0, ['Tên', 'Lương']])\n",
        "\n",
        "# Sửa 1 ô\n",
        "df_edit.loc[0, 'Lương'] = 5200\n",
        "print(f\"\\nSau khi sửa lương An thành 5200:\")\n",
        "print(df_edit.loc[0, ['Tên', 'Lương']])\n",
        "\n",
        "# Sửa nhiều ô\n",
        "df_edit.loc[df_edit['Tên'] == 'Bình', ['Lương', 'Tuổi']] = [6200, 31]\n",
        "print(f\"\\nSau khi sửa thông tin Bình:\")\n",
        "print(df_edit[df_edit['Tên'] == 'Bình'][['Tên', 'Tuổi', 'Lương']])\n",
        "\n",
        "# Sửa cả cột\n",
        "print(f\"\\nTrước khi tăng tuổi:\")\n",
        "print(df_edit[['Tên', 'Tuổi']])\n",
        "\n",
        "df_edit['Tuổi'] = df_edit['Tuổi'] + 1  # Tăng tuổi 1\n",
        "print(f\"\\nSau khi tăng tuổi toàn bộ:\")\n",
        "print(df_edit[['Tên', 'Tuổi']])\n",
        "\n",
        "# Sửa theo điều kiện\n",
        "print(f\"\\nTrước khi tăng lương cho người lương thấp:\")\n",
        "low_salary_before = df_edit[df_edit['Lương'] < 5500][['Tên', 'Lương']]\n",
        "print(low_salary_before)\n",
        "\n",
        "df_edit.loc[df_edit['Lương'] < 5500, 'Lương'] *= 1.1  # Tăng 10%\n",
        "print(f\"\\nSau khi tăng lương 10% cho người có lương < 5500:\")\n",
        "updated_salaries = df_edit[df_edit.index.isin(low_salary_before.index)][['Tên', 'Lương']]\n",
        "print(updated_salaries)"
      ],
      "metadata": {
        "id": "edit_data"
      },
      "execution_count": null,
      "outputs": []
    },
    {
      "cell_type": "code",
      "source": [
        "# Xóa dữ liệu\n",
        "print(\"🔸 Xóa dữ liệu:\")\n",
        "df_delete = df.copy()\n",
        "\n",
        "print(\"DataFrame gốc:\")\n",
        "print(df_delete.columns.tolist())\n",
        "print(f\"Shape: {df_delete.shape}\")\n",
        "\n",
        "# Xóa cột\n",
        "df_dropped_col = df_delete.drop('Thành phố', axis=1)\n",
        "print(f\"\\nSau khi xóa cột 'Thành phố':\")\n",
        "print(df_dropped_col.columns.tolist())\n",
        "print(f\"Shape: {df_dropped_col.shape}\")\n",
        "\n",
        "# Xóa nhiều cột\n",
        "df_dropped_cols = df_delete.drop(['Thành phố', 'Kinh nghiệm'], axis=1)\n",
        "print(f\"\\nSau khi xóa 2 cột:\")\n",
        "print(df_dropped_cols.columns.tolist())\n",
        "\n",
        "# Xóa hàng\n",
        "print(f\"\\nTrước khi xóa hàng:\")\n",
        "print(df_delete[['Tên', 'Tuổi']])\n",
        "\n",
        "df_dropped_row = df_delete.drop(0, axis=0)  # Xóa hàng index 0\n",
        "print(f\"\\nSau khi xóa hàng đầu tiên (An):\")\n",
        "print(df_dropped_row[['Tên', 'Tuổi']])\n",
        "\n",
        "# Xóa nhiều hàng\n",
        "df_dropped_rows = df_delete.drop([0, 2], axis=0)  # Xóa An và Chi\n",
        "print(f\"\\nSau khi xóa hàng 0 và 2 (An và Chi):\")\n",
        "print(df_dropped_rows[['Tên', 'Tuổi']])\n",
        "\n",
        "# Xóa theo điều kiện\n",
        "df_conditional_drop = df_delete[df_delete['Tuổi'] >= 25]  # Giữ lại người >= 25 tuổi\n",
        "print(f\"\\nSau khi xóa người < 25 tuổi:\")\n",
        "print(df_conditional_drop[['Tên', 'Tuổi']])\n",
        "\n",
        "# Reset index sau khi xóa\n",
        "df_reset = df_dropped_rows.reset_index(drop=True)\n",
        "print(f\"\\nSau khi reset index:\")\n",
        "print(df_reset[['Tên', 'Tuổi']])"
      ],
      "metadata": {
        "id": "delete_data"
      },
      "execution_count": null,
      "outputs": []
    },
    {
      "cell_type": "markdown",
      "source": [
        "## V. Xử lý dữ liệu thiếu"
      ],
      "metadata": {
        "id": "missing_data_header"
      }
    },
    {
      "cell_type": "code",
      "source": [
        "# 5. Xử lý dữ liệu thiếu (Missing Data)\n",
        "print(\"🔧 5. XỬ LÝ DỮ LIỆU THIẾU\")\n",
        "print(\"=\" * 40)\n",
        "\n",
        "# Tạo dữ liệu có giá trị thiếu\n",
        "print(\"🔸 Tạo dữ liệu thiếu:\")\n",
        "df_missing = df.copy()\n",
        "\n",
        "# Thêm một số giá trị NaN\n",
        "df_missing.loc[1, 'Lương'] = np.nan\n",
        "df_missing.loc[3, 'Tuổi'] = np.nan\n",
        "df_missing.loc[4, 'Thành phố'] = np.nan\n",
        "df_missing.loc[2, 'Kinh nghiệm'] = np.nan\n",
        "df_missing.loc[5, 'Lương'] = np.nan\n",
        "\n",
        "print(\"DataFrame với dữ liệu thiếu:\")\n",
        "print(df_missing)\n",
        "\n",
        "# Kiểm tra dữ liệu thiếu\n",
        "print(\"\\n🔸 Kiểm tra dữ liệu thiếu:\")\n",
        "print(\"Số giá trị thiếu mỗi cột:\")\n",
        "missing_count = df_missing.isnull().sum()\n",
        "print(missing_count)\n",
        "\n",
        "print(\"\\nPhần trăm giá trị thiếu:\")\n",
        "missing_percent = (df_missing.isnull().sum() / len(df_missing) * 100).round(2)\n",
        "print(missing_percent)\n",
        "\n",
        "# Tổng hợp thông tin missing data\n",
        "missing_info = pd.DataFrame({\n",
        "    'Missing_Count': missing_count,\n",
        "    'Missing_Percent': missing_percent\n",
        "})\n",
        "print(\"\\nTổng hợp missing data:\")\n",
        "print(missing_info[missing_info['Missing_Count'] > 0])\n",
        "\n",
        "# Kiểm tra hàng nào có dữ liệu thiếu\n",
        "print(\"\\nHàng có dữ liệu thiếu:\")\n",
        "rows_with_missing = df_missing[df_missing.isnull().any(axis=1)]\n",
        "print(rows_with_missing)"
      ],
      "metadata": {
        "id": "missing_data_detection"
      },
      "execution_count": null,
      "outputs": []
    },
    {
      "cell_type": "code",
      "source": [
        "# Xử lý dữ liệu thiếu - các phương pháp khác nhau\n",
        "print(\"🔸 Các phương pháp xử lý dữ liệu thiếu:\")\n",
        "\n",
        "# Phương pháp 1: Điền giá trị cố định\n",
        "print(\"\\n1. Điền giá trị cố định:\")\n",
        "df_filled_0 = df_missing.fillna(0)\n",
        "print(\"Điền 0 cho tất cả NaN:\")\n",
        "print(df_filled_0[['Tên', 'Tuổi', 'Lương', 'Thành phố', 'Kinh nghiệm']])\n",
        "\n",
        "# Phương pháp 2: Điền giá trị theo cột\n",
        "print(\"\\n2. Điền giá trị khác nhau cho từng cột:\")\n",
        "df_filled_custom = df_missing.copy()\n",
        "df_filled_custom['Tuổi'].fillna(df_filled_custom['Tuổi'].mean(), inplace=True)\n",
        "df_filled_custom['Lương'].fillna(df_filled_custom['Lương'].median(), inplace=True)\n",
        "df_filled_custom['Kinh nghiệm'].fillna(df_filled_custom['Kinh nghiệm'].mean(), inplace=True)\n",
        "df_filled_custom['Thành phố'].fillna('Unknown', inplace=True)\n",
        "\n",
        "print(\"Điền mean/median cho số, 'Unknown' cho text:\")\n",
        "print(df_filled_custom)\n",
        "\n",
        "# Phương pháp 3: Forward fill và backward fill\n",
        "print(\"\\n3. Forward fill và backward fill:\")\n",
        "df_ffill = df_missing.fillna(method='ffill')  # Điền giá trị từ trước\n",
        "print(\"Forward fill (ffill):\")\n",
        "print(df_ffill[['Tên', 'Tuổi', 'Lương']])\n",
        "\n",
        "df_bfill = df_missing.fillna(method='bfill')  # Điền giá trị từ sau\n",
        "print(\"\\nBackward fill (bfill):\")\n",
        "print(df_bfill[['Tên', 'Tuổi', 'Lương']])\n",
        "\n",
        "# Phương pháp 4: Interpolation\n",
        "print(\"\\n4. Interpolation (cho cột số):\")\n",
        "df_interpolated = df_missing.copy()\n",
        "df_interpolated['Lương'] = df_interpolated['Lương'].interpolate()\n",
        "df_interpolated['Tuổi'] = df_interpolated['Tuổi'].interpolate()\n",
        "print(\"Interpolated values:\")\n",
        "print(df_interpolated[['Tên', 'Tuổi', 'Lương']])"
      ],
      "metadata": {
        "id": "missing_data_handling"
      },
      "execution_count": null,
      "outputs": []
    },
    {
      "cell_type": "code",
      "source": [
        "# Xóa dữ liệu thiếu\n",
        "print(\"\\n5. Xóa dữ liệu thiếu:\")\n",
        "\n",
        "# Xóa tất cả hàng có NaN\n",
        "df_dropped_any = df_missing.dropna()\n",
        "print(f\"Xóa tất cả hàng có NaN:\")\n",
        "print(f\"Shape trước: {df_missing.shape}\")\n",
        "print(f\"Shape sau: {df_dropped_any.shape}\")\n",
        "print(df_dropped_any)\n",
        "\n",
        "# Xóa hàng có tất cả NaN\n",
        "df_dropped_all = df_missing.dropna(how='all')\n",
        "print(f\"\\nXóa hàng có tất cả NaN:\")\n",
        "print(f\"Shape: {df_dropped_all.shape}\")\n",
        "\n",
        "# Xóa hàng có NaN trong cột cụ thể\n",
        "df_dropped_subset = df_missing.dropna(subset=['Lương'])\n",
        "print(f\"\\nXóa hàng có NaN trong cột 'Lương':\")\n",
        "print(f\"Shape: {df_dropped_subset.shape}\")\n",
        "print(df_dropped_subset[['Tên', 'Lương']])\n",
        "\n",
        "# Xóa cột có quá nhiều NaN\n",
        "threshold = len(df_missing) * 0.5  # Giữ cột có ít hơn 50% NaN\n",
        "df_dropped_cols = df_missing.dropna(thresh=threshold, axis=1)\n",
        "print(f\"\\nXóa cột có >50% NaN:\")\n",
        "print(f\"Columns: {df_dropped_cols.columns.tolist()}\")\n",
        "\n",
        "# Phương pháp 6: Advanced filling\n",
        "print(\"\\n6. Advanced filling strategies:\")\n",
        "df_advanced = df_missing.copy()\n",
        "\n",
        "# Điền based trên group\n",
        "df_advanced['Lương'] = df_advanced.groupby('Thành phố')['Lương'].transform(\n",
        "    lambda x: x.fillna(x.mean())\n",
        ")\n",
        "\n",
        "print(\"Điền lương theo mean của từng thành phố:\")\n",
        "print(df_advanced[['Tên', 'Thành phố', 'Lương']])\n",
        "\n",
        "# So sánh các phương pháp\n",
        "print(\"\\n📊 So sánh các phương pháp:\")\n",
        "methods_comparison = pd.DataFrame({\n",
        "    'Method': ['Original', 'Fill 0', 'Fill Mean/Median', 'Drop NaN', 'Interpolate'],\n",
        "    'Shape': [df_missing.shape, df_filled_0.shape, df_filled_custom.shape,\n",
        "              df_dropped_any.shape, df_interpolated.shape],\n",
        "    'Missing_Count': [df_missing.isnull().sum().sum(), df_filled_0.isnull().sum().sum(),\n",
        "                     df_filled_custom.isnull().sum().sum(), df_dropped_any.isnull().sum().sum(),\n",
        "                     df_interpolated.isnull().sum().sum()]\n",
        "})\n",
        "print(methods_comparison)"
      ],
      "metadata": {
        "id": "missing_data_strategies"
      },
      "execution_count": null,
      "outputs": []
    },
    {
      "cell_type": "markdown",
      "source": [
        "## VI. Thống kê và phân tích dữ liệu"
      ],
      "metadata": {
        "id": "statistics_header"
      }
    },
    {
      "cell_type": "code",
      "source": [
        "# 6. Thống kê và phân tích dữ liệu\n",
        "print(\"📊 6. THỐNG KÊ VÀ PHÂN TÍCH DỮ LIỆU\")\n",
        "print(\"=\" * 45)\n",
        "\n",
        "# Thống kê cơ bản\n",
        "print(\"🔸 Thống kê cơ bản:\")\n",
        "print(f\"Lương trung bình: {df['Lương'].mean():.2f}\")\n",
        "print(f\"Lương trung vị: {df['Lương'].median():.2f}\")\n",
        "print(f\"Độ lệch chuẩn lương: {df['Lương'].std():.2f}\")\n",
        "print(f\"Lương min: {df['Lương'].min()}\")\n",
        "print(f\"Lương max: {df['Lương'].max()}\")\n",
        "print(f\"Tổng lương: {df['Lương'].sum():,}\")\n",
        "\n",
        "print(f\"\\nTuổi thống kê:\")\n",
        "print(f\"Tuổi TB: {df['Tuổi'].mean():.1f}\")\n",
        "print(f\"Tuổi min: {df['Tuổi'].min()}\")\n",
        "print(f\"Tuổi max: {df['Tuổi'].max()}\")\n",
        "\n",
        "# Quartiles và percentiles\n",
        "print(f\"\\n🔸 Quartiles và percentiles:\")\n",
        "print(f\"Q1 (25%): {df['Lương'].quantile(0.25)}\")\n",
        "print(f\"Q2 (50% - Median): {df['Lương'].quantile(0.5)}\")\n",
        "print(f\"Q3 (75%): {df['Lương'].quantile(0.75)}\")\n",
        "print(f\"90th percentile: {df['Lương'].quantile(0.9)}\")\n",
        "\n",
        "# Value counts\n",
        "print(\"\\n🔸 Đếm tần suất:\")\n",
        "print(\"Phân bố theo thành phố:\")\n",
        "city_counts = df['Thành phố'].value_counts()\n",
        "print(city_counts)\n",
        "\n",
        "print(\"\\nPhân bố theo độ tuổi:\")\n",
        "age_counts = df['Tuổi'].value_counts().sort_index()\n",
        "print(age_counts)\n",
        "\n",
        "print(\"\\nPhân bố theo kinh nghiệm:\")\n",
        "exp_counts = df['Kinh nghiệm'].value_counts().sort_index()\n",
        "print(exp_counts)\n",
        "\n",
        "# Normalize value counts (percentage)\n",
        "print(\"\\n🔸 Phần trăm phân bố:\")\n",
        "city_percent = df['Thành phố'].value_counts(normalize=True) * 100\n",
        "print(\"Phần trăm theo thành phố:\")\n",
        "print(city_percent.round(2))"
      ],
      "metadata": {
        "id": "basic_statistics"
      },
      "execution_count": null,
      "outputs": []
    },
    {
      "cell_type": "code",
      "source": [
        "# Group By operations\n",
        "print(\"🔸 Group By operations:\")\n",
        "\n",
        "# Group by single column\n",
        "print(\"Thống kê theo thành phố:\")\n",
        "city_stats = df.groupby('Thành phố').agg({\n",
        "    'Lương': ['mean', 'max', 'min', 'count'],\n",
        "    'Tuổi': 'mean',\n",
        "    'Kinh nghiệm': ['mean', 'max']\n",
        "})\n",
        "print(city_stats)\n",
        "\n",
        "# Flatten column names\n",
        "city_stats.columns = ['_'.join(col).strip() for col in city_stats.columns]\n",
        "print(\"\\nCùng dữ liệu với column names đơn giản:\")\n",
        "print(city_stats)\n",
        "\n",
        "# Group by với điều kiện\n",
        "print(\"\\n🔸 Group by với điều kiện:\")\n",
        "df['Age_Group'] = df['Tuổi'].apply(lambda x: 'Young' if x < 30 else 'Senior')\n",
        "age_group_stats = df.groupby('Age_Group').agg({\n",
        "    'Lương': ['mean', 'count'],\n",
        "    'Kinh nghiệm': 'mean'\n",
        "})\n",
        "print(\"Thống kê theo nhóm tuổi:\")\n",
        "print(age_group_stats)\n",
        "\n",
        "# Multiple groupby\n",
        "print(\"\\n🔸 Multiple Group By:\")\n",
        "multi_group = df.groupby(['Thành phố', 'Age_Group'])['Lương'].agg(['mean', 'count'])\n",
        "print(\"Thống kê theo thành phố và nhóm tuổi:\")\n",
        "print(multi_group)\n",
        "\n",
        "# Custom aggregation function\n",
        "print(\"\\n🔸 Custom aggregation:\")\n",
        "def salary_range(series):\n",
        "    return series.max() - series.min()\n",
        "\n",
        "custom_agg = df.groupby('Thành phố')['Lương'].agg([\n",
        "    ('Avg_Salary', 'mean'),\n",
        "    ('Salary_Range', salary_range),\n",
        "    ('Total_Employees', 'count')\n",
        "])\n",
        "print(\"Custom aggregation:\")\n",
        "print(custom_agg)"
      ],
      "metadata": {
        "id": "groupby_operations"
      },
      "execution_count": null,
      "outputs": []
    },
    {
      "cell_type": "code",
      "source": [
        "# Correlation analysis\n",
        "print(\"🔸 Correlation analysis:\")\n",
        "print(\"Ma trận tương quan giữa các biến số:\")\n",
        "correlation_matrix = df[['Tuổi', 'Lương', 'Kinh nghiệm']].corr()\n",
        "print(correlation_matrix)\n",
        "\n",
        "print(\"\\nTương quan mạnh nhất:\")\n",
        "# Tìm correlation cao nhất (không tính diagonal)\n",
        "corr_values = correlation_matrix.values\n",
        "np.fill_diagonal(corr_values, 0)  # Set diagonal to 0\n",
        "max_corr_idx = np.unravel_index(np.argmax(np.abs(corr_values)), corr_values.shape)\n",
        "cols = correlation_matrix.columns\n",
        "print(f\"Tương quan cao nhất: {cols[max_corr_idx[0]]} vs {cols[max_corr_idx[1]]} = {corr_values[max_corr_idx]:.3f}\")\n",
        "\n",
        "# Pivot table\n",
        "print(\"\\n🔸 Pivot Table:\")\n",
        "pivot = df.pivot_table(\n",
        "    values='Lương',\n",
        "    index='Thành phố',\n",
        "    columns='Age_Group',\n",
        "    aggfunc=['mean', 'count'],\n",
        "    fill_value=0\n",
        ")\n",
        "print(\"Pivot table - Lương theo thành phố và nhóm tuổi:\")\n",
        "print(pivot)\n",
        "\n",
        "# Cross tabulation\n",
        "print(\"\\n🔸 Cross Tabulation:\")\n",
        "crosstab = pd.crosstab(df['Thành phố'], df['Age_Group'], margins=True)\n",
        "print(\"Cross tabulation - Số lượng nhân viên:\")\n",
        "print(crosstab)\n",
        "\n",
        "# Percentage cross tabulation\n",
        "crosstab_pct = pd.crosstab(df['Thành phố'], df['Age_Group'], normalize='index') * 100\n",
        "print(\"\\nCross tabulation (percentage by city):\")\n",
        "print(crosstab_pct.round(2))"
      ],
      "metadata": {
        "id": "advanced_analysis"
      },
      "execution_count": null,
      "outputs": []
    },
    {
      "cell_type": "markdown",
      "source": [
        "---\n",
        "# 🎯 **PHẦN 3: BÀI TẬP THỰC HÀNH**\n",
        "\n",
        "## Bài tập tổng hợp kiến thức NumPy và Pandas"
      ],
      "metadata": {
        "id": "exercises_header"
      }
    },
    {
      "cell_type": "markdown",
      "source": [
        "### 🔢 **BÀI TẬP NUMPY**"
      ],
      "metadata": {
        "id": "numpy_exercises_header"
      }
    },
    {
      "cell_type": "code",
      "source": [
        "# Bài tập NumPy\n",
        "print(\"🔢 BÀI TẬP NUMPY\")\n",
        "print(\"=\" * 30)\n",
        "\n",
        "print(\"\\n📝 Bài tập 1: Tạo và thao tác mảng cơ bản\")\n",
        "print(\"-\" * 50)\n",
        "\n",
        "# Tạo mảng 2D từ 1 đến 20, reshape thành 4x5\n",
        "matrix = np.arange(1, 21).reshape(4, 5)\n",
        "print(f\"Ma trận 4x5:\")\n",
        "print(matrix)\n",
        "\n",
        "# Tính tổng từng hàng và từng cột\n",
        "row_sums = np.sum(matrix, axis=1)\n",
        "col_sums = np.sum(matrix, axis=0)\n",
        "print(f\"\\nTổng từng hàng: {row_sums}\")\n",
        "print(f\"Tổng từng cột: {col_sums}\")\n",
        "\n",
        "# Tìm giá trị lớn nhất và nhỏ nhất\n",
        "print(f\"\\nGiá trị lớn nhất: {np.max(matrix)}\")\n",
        "print(f\"Giá trị nhỏ nhất: {np.min(matrix)}\")\n",
        "print(f\"Vị trí max: {np.unravel_index(np.argmax(matrix), matrix.shape)}\")\n",
        "print(f\"Vị trí min: {np.unravel_index(np.argmin(matrix), matrix.shape)}\")\n",
        "\n",
        "# Tính trung bình\n",
        "print(f\"\\nTrung bình toàn bộ: {np.mean(matrix):.2f}\")\n",
        "print(f\"Trung bình từng hàng: {np.mean(matrix, axis=1)}\")\n",
        "print(f\"Trung bình từng cột: {np.mean(matrix, axis=0)}\")\n",
        "\n",
        "print(\"\\n📝 Bài tập 2: Broadcasting và phép toán\")\n",
        "print(\"-\" * 50)\n",
        "\n",
        "# Tạo mảng và vector\n",
        "A = np.random.randint(1, 10, (3, 4))\n",
        "v = np.array([1, 2, 3, 4])\n",
        "\n",
        "print(f\"Ma trận A (3x4):\")\n",
        "print(A)\n",
        "print(f\"\\nVector v: {v}\")\n",
        "\n",
        "# Broadcasting operations\n",
        "print(f\"\\nA + v (broadcasting):\")\n",
        "print(A + v)\n",
        "\n",
        "print(f\"\\nA * v (broadcasting):\")\n",
        "print(A * v)\n",
        "\n",
        "# Normalize rows (chia mỗi hàng cho tổng của nó)\n",
        "row_sums = np.sum(A, axis=1, keepdims=True)\n",
        "normalized = A / row_sums\n",
        "print(f\"\\nNormalized rows (sum=1):\")\n",
        "print(normalized)\n",
        "print(f\"\\nKiểm tra tổng từng hàng: {np.sum(normalized, axis=1)}\")"
      ],
      "metadata": {
        "id": "numpy_exercises"
      },
      "execution_count": null,
      "outputs": []
    },
    {
      "cell_type": "code",
      "source": [
        "print(\"\\n📝 Bài tập 3: Dot product thực tế\")\n",
        "print(\"-\" * 50)\n",
        "\n",
        "# Scenario: Portfolio investment\n",
        "print(\"🏦 Scenario: Tính toán portfolio đầu tư\")\n",
        "\n",
        "# Stock prices và quantities\n",
        "stocks = ['AAPL', 'GOOGL', 'MSFT', 'TSLA', 'AMZN']\n",
        "prices = np.array([150, 2500, 300, 800, 3200])  # Giá cổ phiếu\n",
        "quantities = np.array([10, 2, 5, 3, 1])         # Số lượng sở hữu\n",
        "\n",
        "print(f\"Stocks: {stocks}\")\n",
        "print(f\"Prices: {prices}\")\n",
        "print(f\"Quantities: {quantities}\")\n",
        "\n",
        "# Tổng giá trị portfolio\n",
        "total_value = np.dot(prices, quantities)\n",
        "print(f\"\\n💰 Tổng giá trị portfolio: ${total_value:,}\")\n",
        "\n",
        "# Weight của mỗi stock\n",
        "weights = (prices * quantities) / total_value\n",
        "print(f\"\\n📊 Tỷ trọng từng cổ phiếu:\")\n",
        "for stock, weight in zip(stocks, weights):\n",
        "    print(f\"  {stock}: {weight:.2%}\")\n",
        "\n",
        "# Giả sử giá thay đổi +5%, -3%, +2%, +10%, -1%\n",
        "price_changes = np.array([0.05, -0.03, 0.02, 0.10, -0.01])\n",
        "new_prices = prices * (1 + price_changes)\n",
        "new_value = np.dot(new_prices, quantities)\n",
        "\n",
        "print(f\"\\n📈 Sau khi giá thay đổi:\")\n",
        "print(f\"New prices: {new_prices}\")\n",
        "print(f\"New portfolio value: ${new_value:,}\")\n",
        "print(f\"Change: ${new_value - total_value:,.2f} ({((new_value - total_value)/total_value):.2%})\")\n",
        "\n",
        "print(\"\\n📝 Bài tập 4: Matrix operations\")\n",
        "print(\"-\" * 50)\n",
        "\n",
        "# Transformation matrix\n",
        "print(\"🔄 Linear transformation\")\n",
        "\n",
        "# Points to transform\n",
        "points = np.array([[1, 2], [3, 4], [5, 6]])  # 3 points in 2D\n",
        "print(f\"Original points:\")\n",
        "print(points)\n",
        "\n",
        "# Rotation matrix (45 degrees)\n",
        "angle = np.pi / 4  # 45 degrees in radians\n",
        "rotation_matrix = np.array([\n",
        "    [np.cos(angle), -np.sin(angle)],\n",
        "    [np.sin(angle), np.cos(angle)]\n",
        "])\n",
        "\n",
        "print(f\"\\nRotation matrix (45°):\")\n",
        "print(rotation_matrix)\n",
        "\n",
        "# Apply transformation\n",
        "transformed_points = points @ rotation_matrix.T\n",
        "print(f\"\\nTransformed points:\")\n",
        "print(transformed_points)\n",
        "\n",
        "# Scaling matrix\n",
        "scale_matrix = np.array([[2, 0], [0, 3]])  # Scale x by 2, y by 3\n",
        "scaled_points = points @ scale_matrix.T\n",
        "print(f\"\\nScaled points (2x, 3y):\")\n",
        "print(scaled_points)"
      ],
      "metadata": {
        "id": "numpy_advanced_exercises"
      },
      "execution_count": null,
      "outputs": []
    },
    {
      "cell_type": "markdown",
      "source": [
        "### 🐼 **BÀI TẬP PANDAS**"
      ],
      "metadata": {
        "id": "pandas_exercises_header"
      }
    },
    {
      "cell_type": "code",
      "source": [
        "# Bài tập Pandas\n",
        "print(\"🐼 BÀI TẬP PANDAS\")\n",
        "print(\"=\" * 30)\n",
        "\n",
        "print(\"\\n📝 Bài tập 1: Phân tích dữ liệu sinh viên\")\n",
        "print(\"-\" * 50)\n",
        "\n",
        "# Tạo dataset sinh viên\n",
        "np.random.seed(42)\n",
        "n_students = 100\n",
        "\n",
        "students_data = {\n",
        "    'StudentID': [f'ST{i+1:03d}' for i in range(n_students)],\n",
        "    'Name': [f'Student_{i+1}' for i in range(n_students)],\n",
        "    'Math': np.random.normal(75, 15, n_students).clip(0, 100),\n",
        "    'Physics': np.random.normal(70, 12, n_students).clip(0, 100),\n",
        "    'Chemistry': np.random.normal(72, 14, n_students).clip(0, 100),\n",
        "    'English': np.random.normal(78, 10, n_students).clip(0, 100),\n",
        "    'Class': np.random.choice(['A', 'B', 'C', 'D'], n_students),\n",
        "    'Gender': np.random.choice(['Male', 'Female'], n_students),\n",
        "    'Age': np.random.randint(18, 23, n_students)\n",
        "}\n",
        "\n",
        "df_students = pd.DataFrame(students_data)\n",
        "\n",
        "# Làm tròn điểm số\n",
        "df_students[['Math', 'Physics', 'Chemistry', 'English']] = df_students[['Math', 'Physics', 'Chemistry', 'English']].round(1)\n",
        "\n",
        "print(\"Dataset sinh viên (10 dòng đầu):\")\n",
        "print(df_students.head(10))\n",
        "\n",
        "print(f\"\\n📊 Thông tin cơ bản:\")\n",
        "print(f\"Tổng số sinh viên: {len(df_students)}\")\n",
        "print(f\"Số lớp: {df_students['Class'].nunique()}\")\n",
        "print(f\"Phân bố giới tính:\\n{df_students['Gender'].value_counts()}\")\n",
        "print(f\"Độ tuổi: {df_students['Age'].min()}-{df_students['Age'].max()}\")"
      ],
      "metadata": {
        "id": "pandas_student_dataset"
      },
      "execution_count": null,
      "outputs": []
    },
    {
      "cell_type": "code",
      "source": [
        "# Phân tích dữ liệu sinh viên\n",
        "print(\"\\n🔸 Tính điểm trung bình và xếp loại:\")\n",
        "\n",
        "# Tính điểm trung bình\n",
        "subject_columns = ['Math', 'Physics', 'Chemistry', 'English']\n",
        "df_students['Average'] = df_students[subject_columns].mean(axis=1)\n",
        "\n",
        "# Tạo cột xếp loại\n",
        "def classify_grade(avg):\n",
        "    if avg >= 85:\n",
        "        return 'Excellent'\n",
        "    elif avg >= 75:\n",
        "        return 'Good'\n",
        "    elif avg >= 65:\n",
        "        return 'Average'\n",
        "    elif avg >= 50:\n",
        "        return 'Below Average'\n",
        "    else:\n",
        "        return 'Poor'\n",
        "\n",
        "df_students['Grade'] = df_students['Average'].apply(classify_grade)\n",
        "\n",
        "print(\"Top 10 sinh viên có điểm TB cao nhất:\")\n",
        "top_students = df_students.nlargest(10, 'Average')[['Name', 'Class', 'Average', 'Grade']]\n",
        "print(top_students)\n",
        "\n",
        "print(\"\\n🔸 Phân bố xếp loại:\")\n",
        "grade_distribution = df_students['Grade'].value_counts()\n",
        "print(grade_distribution)\n",
        "print(\"\\nPhần trăm:\")\n",
        "print((grade_distribution / len(df_students) * 100).round(2))\n",
        "\n",
        "print(\"\\n🔸 Thống kê theo lớp:\")\n",
        "class_stats = df_students.groupby('Class').agg({\n",
        "    'Average': ['mean', 'max', 'min', 'std'],\n",
        "    'Name': 'count'\n",
        "}).round(2)\n",
        "class_stats.columns = ['Avg_Score', 'Max_Score', 'Min_Score', 'Std_Score', 'Student_Count']\n",
        "print(class_stats)\n",
        "\n",
        "print(\"\\n🔸 Thống kê theo giới tính:\")\n",
        "gender_stats = df_students.groupby('Gender')[subject_columns + ['Average']].mean().round(2)\n",
        "print(gender_stats)\n",
        "\n",
        "print(\"\\n🔸 Tương quan giữa các môn học:\")\n",
        "subject_correlation = df_students[subject_columns].corr().round(3)\n",
        "print(subject_correlation)"
      ],
      "metadata": {
        "id": "student_analysis"
      },
      "execution_count": null,
      "outputs": []
    },
    {
      "cell_type": "code",
      "source": [
        "print(\"\\n📝 Bài tập 2: Phân tích dữ liệu bán hàng\")\n",
        "print(\"-\" * 50)\n",
        "\n",
        "# Tạo dataset bán hàng\n",
        "np.random.seed(123)\n",
        "n_transactions = 1000\n",
        "\n",
        "# Tạo date range\n",
        "date_range = pd.date_range('2024-01-01', '2024-12-31', freq='D')\n",
        "products = ['Laptop', 'Phone', 'Tablet', 'Watch', 'Headphones', 'Speaker', 'Camera']\n",
        "regions = ['North', 'South', 'East', 'West', 'Central']\n",
        "salespersons = [f'Sales_{i+1}' for i in range(20)]\n",
        "\n",
        "sales_data = {\n",
        "    'TransactionID': [f'T{i+1:04d}' for i in range(n_transactions)],\n",
        "    'Date': np.random.choice(date_range, n_transactions),\n",
        "    'Product': np.random.choice(products, n_transactions),\n",
        "    'Quantity': np.random.randint(1, 5, n_transactions),\n",
        "    'Unit_Price': np.random.uniform(100, 1500, n_transactions).round(2),\n",
        "    'Region': np.random.choice(regions, n_transactions),\n",
        "    'Salesperson': np.random.choice(salespersons, n_transactions),\n",
        "    'Customer_Type': np.random.choice(['New', 'Returning'], n_transactions, p=[0.3, 0.7])\n",
        "}\n",
        "\n",
        "df_sales = pd.DataFrame(sales_data)\n",
        "\n",
        "# Tính revenue\n",
        "df_sales['Revenue'] = df_sales['Quantity'] * df_sales['Unit_Price']\n",
        "\n",
        "# Extract time features\n",
        "df_sales['Year'] = df_sales['Date'].dt.year\n",
        "df_sales['Month'] = df_sales['Date'].dt.month\n",
        "df_sales['Quarter'] = df_sales['Date'].dt.quarter\n",
        "df_sales['Day_of_Week'] = df_sales['Date'].dt.day_name()\n",
        "\n",
        "print(\"Dataset bán hàng (10 dòng đầu):\")\n",
        "print(df_sales.head(10))\n",
        "\n",
        "print(f\"\\n📊 Tổng quan:\")\n",
        "print(f\"Tổng số giao dịch: {len(df_sales):,}\")\n",
        "print(f\"Tổng doanh thu: ${df_sales['Revenue'].sum():,.2f}\")\n",
        "print(f\"Doanh thu trung bình/giao dịch: ${df_sales['Revenue'].mean():.2f}\")\n",
        "print(f\"Giao dịch lớn nhất: ${df_sales['Revenue'].max():,.2f}\")\n",
        "print(f\"Số sản phẩm: {df_sales['Product'].nunique()}\")\n",
        "print(f\"Số vùng: {df_sales['Region'].nunique()}\")\n",
        "print(f\"Số nhân viên bán hàng: {df_sales['Salesperson'].nunique()}\")"
      ],
      "metadata": {
        "id": "sales_dataset"
      },
      "execution_count": null,
      "outputs": []
    },
    {
      "cell_type": "code",
      "source": [
        "# Phân tích bán hàng chi tiết\n",
        "print(\"\\n🔸 Phân tích theo sản phẩm:\")\n",
        "product_analysis = df_sales.groupby('Product').agg({\n",
        "    'Revenue': ['sum', 'mean', 'count'],\n",
        "    'Quantity': 'sum',\n",
        "    'Unit_Price': 'mean'\n",
        "}).round(2)\n",
        "\n",
        "product_analysis.columns = ['Total_Revenue', 'Avg_Revenue', 'Transaction_Count', 'Total_Quantity', 'Avg_Price']\n",
        "product_analysis = product_analysis.sort_values('Total_Revenue', ascending=False)\n",
        "print(product_analysis)\n",
        "\n",
        "print(\"\\n🔸 Phân tích theo vùng:\")\n",
        "region_analysis = df_sales.groupby('Region').agg({\n",
        "    'Revenue': ['sum', 'mean'],\n",
        "    'TransactionID': 'count'\n",
        "}).round(2)\n",
        "region_analysis.columns = ['Total_Revenue', 'Avg_Revenue', 'Transaction_Count']\n",
        "region_analysis['Revenue_Share'] = (region_analysis['Total_Revenue'] / region_analysis['Total_Revenue'].sum() * 100).round(2)\n",
        "print(region_analysis.sort_values('Total_Revenue', ascending=False))\n",
        "\n",
        "print(\"\\n🔸 Phân tích theo tháng:\")\n",
        "monthly_analysis = df_sales.groupby('Month').agg({\n",
        "    'Revenue': 'sum',\n",
        "    'TransactionID': 'count'\n",
        "}).round(2)\n",
        "monthly_analysis.columns = ['Total_Revenue', 'Transaction_Count']\n",
        "monthly_analysis['Avg_Revenue_per_Transaction'] = (monthly_analysis['Total_Revenue'] / monthly_analysis['Transaction_Count']).round(2)\n",
        "print(monthly_analysis)\n",
        "\n",
        "print(\"\\n🔸 Top 10 nhân viên bán hàng:\")\n",
        "top_salespeople = df_sales.groupby('Salesperson').agg({\n",
        "    'Revenue': 'sum',\n",
        "    'TransactionID': 'count'\n",
        "}).round(2)\n",
        "top_salespeople.columns = ['Total_Revenue', 'Transaction_Count']\n",
        "top_salespeople['Avg_Revenue_per_Transaction'] = (top_salespeople['Total_Revenue'] / top_salespeople['Transaction_Count']).round(2)\n",
        "top_salespeople = top_salespeople.sort_values('Total_Revenue', ascending=False).head(10)\n",
        "print(top_salespeople)\n",
        "\n",
        "print(\"\\n🔸 Phân tích theo loại khách hàng:\")\n",
        "customer_analysis = df_sales.groupby('Customer_Type').agg({\n",
        "    'Revenue': ['sum', 'mean', 'count']\n",
        "}).round(2)\n",
        "customer_analysis.columns = ['Total_Revenue', 'Avg_Revenue', 'Transaction_Count']\n",
        "print(customer_analysis)\n",
        "\n",
        "print(\"\\n🔸 Phân tích theo ngày trong tuần:\")\n",
        "day_analysis = df_sales.groupby('Day_of_Week').agg({\n",
        "    'Revenue': ['sum', 'mean'],\n",
        "    'TransactionID': 'count'\n",
        "}).round(2)\n",
        "day_analysis.columns = ['Total_Revenue', 'Avg_Revenue', 'Transaction_Count']\n",
        "# Reorder by day of week\n",
        "day_order = ['Monday', 'Tuesday', 'Wednesday', 'Thursday', 'Friday', 'Saturday', 'Sunday']\n",
        "day_analysis = day_analysis.reindex(day_order)\n",
        "print(day_analysis)"
      ],
      "metadata": {
        "id": "sales_analysis"
      },
      "execution_count": null,
      "outputs": []
    },
    {
      "cell_type": "markdown",
      "source": [
        "---\n",
        "# 🎉 **KẾT LUẬN VÀ BƯỚC TIẾP THEO**\n",
        "\n",
        "## 📚 **Tóm tắt kiến thức đã học:**\n",
        "\n",
        "### **NumPy:**\n",
        "- ✅ Tạo và thao tác mảng đa chiều\n",
        "- ✅ Indexing, slicing, broadcasting\n",
        "- ✅ Các phép toán toán học và thống kê\n",
        "- ✅ Dot product và linear algebra\n",
        "- ✅ Random number generation\n",
        "\n",
        "### **Pandas:**\n",
        "- ✅ Series và DataFrame\n",
        "- ✅ Đọc, ghi, và thao tác dữ liệu\n",
        "- ✅ Lọc và tìm kiếm dữ liệu\n",
        "- ✅ Xử lý dữ liệu thiếu\n",
        "- ✅ Group by và aggregation\n",
        "- ✅ Thống kê và phân tích dữ liệu\n",
        "\n",
        "## 🚀 **Bước tiếp theo:**\n",
        "1. **Matplotlib/Seaborn** - Visualization\n",
        "2. **Scikit-learn** - Machine Learning\n",
        "3. **Jupyter Notebook** - Interactive analysis\n",
        "4. **Real projects** - Áp dụng vào dự án thực tế\n",
        "\n",
        "## 💡 **Tips để thành thạo:**\n",
        "- Thực hành hàng ngày với dataset thật\n",
        "- Tham gia các competition trên Kaggle\n",
        "- Đọc documentation và examples\n",
        "- Build portfolio projects\n",
        "\n",
        "---\n",
        "**🎓 Chúc bạn học tập hiệu quả và thành công với Data Science!**"
      ],
      "metadata": {
        "id": "conclusion"
      }
    }
  ]
}